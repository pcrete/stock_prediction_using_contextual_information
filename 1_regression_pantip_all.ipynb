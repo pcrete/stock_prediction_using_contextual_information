{
 "cells": [
  {
   "cell_type": "markdown",
   "metadata": {},
   "source": [
    "# Regression with Pantip (all)"
   ]
  },
  {
   "cell_type": "code",
   "execution_count": 1,
   "metadata": {},
   "outputs": [
    {
     "data": {
      "text/html": [
       "<style>.container { width:100% !important; }</style>"
      ],
      "text/plain": [
       "<IPython.core.display.HTML object>"
      ]
     },
     "metadata": {},
     "output_type": "display_data"
    },
    {
     "data": {
      "text/html": [
       "<script>requirejs.config({paths: { 'plotly': ['https://cdn.plot.ly/plotly-latest.min']},});if(!window.Plotly) {{require(['plotly'],function(plotly) {window.Plotly=plotly;});}}</script>"
      ],
      "text/vnd.plotly.v1+html": [
       "<script>requirejs.config({paths: { 'plotly': ['https://cdn.plot.ly/plotly-latest.min']},});if(!window.Plotly) {{require(['plotly'],function(plotly) {window.Plotly=plotly;});}}</script>"
      ]
     },
     "metadata": {},
     "output_type": "display_data"
    },
    {
     "data": {
      "text/plain": [
       "('Total:', 9873)"
      ]
     },
     "execution_count": 1,
     "metadata": {},
     "output_type": "execute_result"
    }
   ],
   "source": [
    "from IPython.core.display import display, HTML\n",
    "display(HTML(\"<style>.container { width:100% !important; }</style>\"))\n",
    "\n",
    "from IPython.core.interactiveshell import InteractiveShell\n",
    "InteractiveShell.ast_node_interactivity = \"all\"\n",
    "\n",
    "import sys\n",
    "sys.version\n",
    "\n",
    "import pickle\n",
    "import pandas as pd\n",
    "import os\n",
    "import copy\n",
    "import numpy as np\n",
    "\n",
    "from pythainlp.corpus import stopwords\n",
    "from sklearn.feature_extraction.text import TfidfVectorizer\n",
    "from sklearn.metrics import mean_squared_error, mean_absolute_error, accuracy_score\n",
    "from sklearn import preprocessing\n",
    "from sklearn import linear_model, tree, ensemble\n",
    "from sklearn import svm\n",
    "\n",
    "from plotly.offline import download_plotlyjs, init_notebook_mode, plot, iplot\n",
    "init_notebook_mode(connected=True)\n",
    "\n",
    "import plotly.graph_objs as go\n",
    "from datetime import datetime, timedelta\n",
    "from tqdm import tqdm_notebook\n",
    "import matplotlib.pyplot as plt\n",
    "% matplotlib inline\n",
    "\n",
    "target_stocks = ['BANPU','IRPC','PTT','BBL','KBANK','SCB','AOT','THAI','CPF','MINT',\n",
    "                 'TU','SCC','CPN','CK','CPALL','HMPRO','BDMS','BH','ADVANC','JAS','TRUE']\n",
    "\n",
    "# target_stocks = ['BANPU']\n",
    "\n",
    "df_price = pd.read_csv('merged_2013_2018.csv')\n",
    "df_price['Date'] = pd.to_datetime(df_price['Date'], format='%Y-%m-%d')\n",
    "df_price = df_price.loc[df_price['Ticker'].isin(target_stocks)]\n",
    "df_price['Date'] = df_price['Date'].dt.date\n",
    "df_price = df_price.set_index('Date')\n",
    "df_price.tail(3)\n",
    "len(df_price)\n",
    "\n",
    "df_pantip = pd.read_csv('data/pantip_all.csv')\n",
    "df_pantip['Date'] = pd.to_datetime(df_pantip['Date'], format='%Y-%m-%d')\n",
    "df_pantip = df_pantip.set_index('Date')\n",
    "df_pantip = df_pantip.sort_index()\n",
    "df_pantip = df_pantip['2014-1-1':'2018-2-8']\n",
    "df_pantip.index = df_pantip.index.date\n",
    "df_pantip.head(3)\n",
    "df_pantip.tail(3)\n",
    "\n",
    "'Total:', len(df_pantip)"
   ]
  },
  {
   "cell_type": "markdown",
   "metadata": {},
   "source": [
    "# Lag & Horizon Construction"
   ]
  },
  {
   "cell_type": "code",
   "execution_count": 2,
   "metadata": {},
   "outputs": [
    {
     "data": {
      "application/vnd.jupyter.widget-view+json": {
       "model_id": "f74488c8349e4cf48d9e9db2316d4164",
       "version_major": 2,
       "version_minor": 0
      },
      "text/html": [
       "<p>Failed to display Jupyter Widget of type <code>HBox</code>.</p>\n",
       "<p>\n",
       "  If you're reading this message in the Jupyter Notebook or JupyterLab Notebook, it may mean\n",
       "  that the widgets JavaScript is still loading. If this message persists, it\n",
       "  likely means that the widgets JavaScript library is either not installed or\n",
       "  not enabled. See the <a href=\"https://ipywidgets.readthedocs.io/en/stable/user_install.html\">Jupyter\n",
       "  Widgets Documentation</a> for setup instructions.\n",
       "</p>\n",
       "<p>\n",
       "  If you're reading this message in another frontend (for example, a static\n",
       "  rendering on GitHub or <a href=\"https://nbviewer.jupyter.org/\">NBViewer</a>),\n",
       "  it may mean that your frontend doesn't currently support widgets.\n",
       "</p>\n"
      ],
      "text/plain": [
       "HBox(children=(IntProgress(value=0, max=21), HTML(value='')))"
      ]
     },
     "metadata": {},
     "output_type": "display_data"
    },
    {
     "name": "stdout",
     "output_type": "stream",
     "text": [
      "BANPU :\t 172 43\n",
      "IRPC :\t 100 26\n",
      "PTT :\t 408 103\n",
      "BBL :\t 145 37\n",
      "KBANK :\t 115 29\n",
      "SCB :\t 778 195\n",
      "AOT :\t 294 74\n",
      "THAI :\t 168 43\n",
      "CPF :\t 348 88\n",
      "MINT :\t 68 17\n",
      "TU :\t 47 12\n",
      "SCC :\t 122 31\n",
      "CPN :\t 112 28\n",
      "CK :\t 131 33\n",
      "CPALL :\t 188 48\n",
      "HMPRO :\t 185 47\n",
      "BDMS :\t 111 28\n",
      "BH :\t 81 21\n",
      "ADVANC :\t 309 78\n",
      "JAS :\t 489 123\n",
      "TRUE :\t 359 90\n",
      "\n"
     ]
    },
    {
     "data": {
      "text/plain": [
       "(4730, 1194)"
      ]
     },
     "execution_count": 2,
     "metadata": {},
     "output_type": "execute_result"
    },
    {
     "data": {
      "text/html": [
       "<div>\n",
       "<style scoped>\n",
       "    .dataframe tbody tr th:only-of-type {\n",
       "        vertical-align: middle;\n",
       "    }\n",
       "\n",
       "    .dataframe tbody tr th {\n",
       "        vertical-align: top;\n",
       "    }\n",
       "\n",
       "    .dataframe thead th {\n",
       "        text-align: right;\n",
       "    }\n",
       "</style>\n",
       "<table border=\"1\" class=\"dataframe\">\n",
       "  <thead>\n",
       "    <tr style=\"text-align: right;\">\n",
       "      <th></th>\n",
       "      <th>Ticker</th>\n",
       "      <th>Text</th>\n",
       "      <th>Close(t+1)</th>\n",
       "      <th>Open(t)</th>\n",
       "      <th>High(t)</th>\n",
       "      <th>Low(t)</th>\n",
       "      <th>Close(t)</th>\n",
       "      <th>Open(t-1)</th>\n",
       "      <th>High(t-1)</th>\n",
       "      <th>Low(t-1)</th>\n",
       "      <th>Close(t-1)</th>\n",
       "      <th>Open(t-2)</th>\n",
       "      <th>High(t-2)</th>\n",
       "      <th>Low(t-2)</th>\n",
       "      <th>Close(t-2)</th>\n",
       "      <th>Open(t-3)</th>\n",
       "      <th>High(t-3)</th>\n",
       "      <th>Low(t-3)</th>\n",
       "      <th>Close(t-3)</th>\n",
       "    </tr>\n",
       "    <tr>\n",
       "      <th>Date</th>\n",
       "      <th></th>\n",
       "      <th></th>\n",
       "      <th></th>\n",
       "      <th></th>\n",
       "      <th></th>\n",
       "      <th></th>\n",
       "      <th></th>\n",
       "      <th></th>\n",
       "      <th></th>\n",
       "      <th></th>\n",
       "      <th></th>\n",
       "      <th></th>\n",
       "      <th></th>\n",
       "      <th></th>\n",
       "      <th></th>\n",
       "      <th></th>\n",
       "      <th></th>\n",
       "      <th></th>\n",
       "      <th></th>\n",
       "    </tr>\n",
       "  </thead>\n",
       "  <tbody>\n",
       "    <tr>\n",
       "      <th>2014-01-06</th>\n",
       "      <td>BANPU</td>\n",
       "      <td>ดอย เกิด ไร ขึ้น คะ ดอย บ้าน ปู ที่ ลง ทุกวัน ...</td>\n",
       "      <td>26.0</td>\n",
       "      <td>26.0</td>\n",
       "      <td>26.25</td>\n",
       "      <td>24.8</td>\n",
       "      <td>25.25</td>\n",
       "      <td>27.5</td>\n",
       "      <td>28.25</td>\n",
       "      <td>26.5</td>\n",
       "      <td>26.5</td>\n",
       "      <td>30.0</td>\n",
       "      <td>30.25</td>\n",
       "      <td>28.0</td>\n",
       "      <td>28.0</td>\n",
       "      <td>30.0</td>\n",
       "      <td>30.25</td>\n",
       "      <td>29.0</td>\n",
       "      <td>30.25</td>\n",
       "    </tr>\n",
       "  </tbody>\n",
       "</table>\n",
       "</div>"
      ],
      "text/plain": [
       "           Ticker                                               Text  \\\n",
       "Date                                                                   \n",
       "2014-01-06  BANPU  ดอย เกิด ไร ขึ้น คะ ดอย บ้าน ปู ที่ ลง ทุกวัน ...   \n",
       "\n",
       "            Close(t+1)  Open(t)  High(t)  Low(t)  Close(t)  Open(t-1)  \\\n",
       "Date                                                                    \n",
       "2014-01-06        26.0     26.0    26.25    24.8     25.25       27.5   \n",
       "\n",
       "            High(t-1)  Low(t-1)  Close(t-1)  Open(t-2)  High(t-2)  Low(t-2)  \\\n",
       "Date                                                                          \n",
       "2014-01-06      28.25      26.5        26.5       30.0      30.25      28.0   \n",
       "\n",
       "            Close(t-2)  Open(t-3)  High(t-3)  Low(t-3)  Close(t-3)  \n",
       "Date                                                                \n",
       "2014-01-06        28.0       30.0      30.25      29.0       30.25  "
      ]
     },
     "execution_count": 2,
     "metadata": {},
     "output_type": "execute_result"
    },
    {
     "data": {
      "text/html": [
       "<div>\n",
       "<style scoped>\n",
       "    .dataframe tbody tr th:only-of-type {\n",
       "        vertical-align: middle;\n",
       "    }\n",
       "\n",
       "    .dataframe tbody tr th {\n",
       "        vertical-align: top;\n",
       "    }\n",
       "\n",
       "    .dataframe thead th {\n",
       "        text-align: right;\n",
       "    }\n",
       "</style>\n",
       "<table border=\"1\" class=\"dataframe\">\n",
       "  <thead>\n",
       "    <tr style=\"text-align: right;\">\n",
       "      <th></th>\n",
       "      <th>Ticker</th>\n",
       "      <th>Text</th>\n",
       "      <th>Close(t+1)</th>\n",
       "      <th>Open(t)</th>\n",
       "      <th>High(t)</th>\n",
       "      <th>Low(t)</th>\n",
       "      <th>Close(t)</th>\n",
       "      <th>Open(t-1)</th>\n",
       "      <th>High(t-1)</th>\n",
       "      <th>Low(t-1)</th>\n",
       "      <th>Close(t-1)</th>\n",
       "      <th>Open(t-2)</th>\n",
       "      <th>High(t-2)</th>\n",
       "      <th>Low(t-2)</th>\n",
       "      <th>Close(t-2)</th>\n",
       "      <th>Open(t-3)</th>\n",
       "      <th>High(t-3)</th>\n",
       "      <th>Low(t-3)</th>\n",
       "      <th>Close(t-3)</th>\n",
       "    </tr>\n",
       "    <tr>\n",
       "      <th>Date</th>\n",
       "      <th></th>\n",
       "      <th></th>\n",
       "      <th></th>\n",
       "      <th></th>\n",
       "      <th></th>\n",
       "      <th></th>\n",
       "      <th></th>\n",
       "      <th></th>\n",
       "      <th></th>\n",
       "      <th></th>\n",
       "      <th></th>\n",
       "      <th></th>\n",
       "      <th></th>\n",
       "      <th></th>\n",
       "      <th></th>\n",
       "      <th></th>\n",
       "      <th></th>\n",
       "      <th></th>\n",
       "      <th></th>\n",
       "    </tr>\n",
       "  </thead>\n",
       "  <tbody>\n",
       "    <tr>\n",
       "      <th>2017-04-26</th>\n",
       "      <td>BANPU</td>\n",
       "      <td>ราคา เท่ากัน ตัว ไหน น่าสนใจ กว่า ช่วงนี้ กับ ...</td>\n",
       "      <td>19.5</td>\n",
       "      <td>19.5</td>\n",
       "      <td>19.7</td>\n",
       "      <td>19.0</td>\n",
       "      <td>19.3</td>\n",
       "      <td>20.6</td>\n",
       "      <td>20.6</td>\n",
       "      <td>19.3</td>\n",
       "      <td>19.5</td>\n",
       "      <td>20.8</td>\n",
       "      <td>20.9</td>\n",
       "      <td>20.4</td>\n",
       "      <td>20.6</td>\n",
       "      <td>20.6</td>\n",
       "      <td>20.8</td>\n",
       "      <td>20.5</td>\n",
       "      <td>20.7</td>\n",
       "    </tr>\n",
       "  </tbody>\n",
       "</table>\n",
       "</div>"
      ],
      "text/plain": [
       "           Ticker                                               Text  \\\n",
       "Date                                                                   \n",
       "2017-04-26  BANPU  ราคา เท่ากัน ตัว ไหน น่าสนใจ กว่า ช่วงนี้ กับ ...   \n",
       "\n",
       "            Close(t+1)  Open(t)  High(t)  Low(t)  Close(t)  Open(t-1)  \\\n",
       "Date                                                                    \n",
       "2017-04-26        19.5     19.5     19.7    19.0      19.3       20.6   \n",
       "\n",
       "            High(t-1)  Low(t-1)  Close(t-1)  Open(t-2)  High(t-2)  Low(t-2)  \\\n",
       "Date                                                                          \n",
       "2017-04-26       20.6      19.3        19.5       20.8       20.9      20.4   \n",
       "\n",
       "            Close(t-2)  Open(t-3)  High(t-3)  Low(t-3)  Close(t-3)  \n",
       "Date                                                                \n",
       "2017-04-26        20.6       20.6       20.8      20.5        20.7  "
      ]
     },
     "execution_count": 2,
     "metadata": {},
     "output_type": "execute_result"
    }
   ],
   "source": [
    "N_lags = 3\n",
    "N_horizon = 1\n",
    "\n",
    "df_train = []\n",
    "df_test = []\n",
    "for stock in tqdm_notebook(target_stocks):\n",
    "    news_stocks = []\n",
    "    df_stock = df_pantip.loc[df_pantip['Ticker'] == stock]\n",
    "    prev_date = None\n",
    "    prev_text = None\n",
    "    \n",
    "#     pbar = tqdm_notebook(total=len(df_stock))\n",
    "    for date, row in df_stock.iterrows():\n",
    "        if prev_date == None:\n",
    "            prev_date = date\n",
    "            prev_text = row['Text']\n",
    "        elif prev_date != date:\n",
    "            # horizon\n",
    "            tmp_date = copy.deepcopy(prev_date)\n",
    "            tmp_date += timedelta(days=1)\n",
    "            prices = []\n",
    "            count_lags = 0 \n",
    "            while count_lags < N_horizon:\n",
    "                price = df_price.loc[(df_price.index == tmp_date) & (df_price['Ticker'] == stock)].values\n",
    "                tmp_date += timedelta(days=1)\n",
    "                if len(price) == 0: continue\n",
    "                prices.append(price[0][4]) # Close price next day(s)\n",
    "                count_lags+=1\n",
    "            \n",
    "            # lag\n",
    "            tmp_date = copy.deepcopy(prev_date)\n",
    "            count_lags = 0 \n",
    "            while count_lags <= N_lags:\n",
    "                price = df_price.loc[(df_price.index == tmp_date) & (df_price['Ticker'] == stock)].values\n",
    "                tmp_date -= timedelta(days=1)\n",
    "                if len(price) == 0: continue\n",
    "                for val in price[0][:-1]: \n",
    "                    if type(val) != str: prices.append(val)\n",
    "                count_lags+=1\n",
    "\n",
    "            news_stocks.append([prev_date, stock, prev_text] + prices)\n",
    "            \n",
    "            prev_date = date\n",
    "            prev_text = row['Text']\n",
    "        elif prev_date == date:\n",
    "            prev_text += ' '+row['Text']\n",
    "        \n",
    "#         pbar.update(1)\n",
    "#     pbar.close()\n",
    "\n",
    "    news_stocks = pd.DataFrame.from_records(news_stocks)\n",
    "    news_stocks.columns = ['Date', 'Ticker', 'Text', \n",
    "                           'Close(t+1)', # 'Close(t+2)','Close(t+3)','Close(t+4)','Close(t+5)',\n",
    "                           'Open(t)', 'High(t)', 'Low(t)', 'Close(t)',\n",
    "                           'Open(t-1)', 'High(t-1)', 'Low(t-1)', 'Close(t-1)',\n",
    "                           'Open(t-2)', 'High(t-2)', 'Low(t-2)', 'Close(t-2)',\n",
    "                           'Open(t-3)', 'High(t-3)', 'Low(t-3)', 'Close(t-3)',\n",
    "#                            'Open(t-4)', 'High(t-4)', 'Low(t-4)', 'Close(t-4)',\n",
    "#                            'Open(t-5)', 'High(t-5)', 'Low(t-5)', 'Close(t-5)'\n",
    "                          ]\n",
    "    news_stocks = news_stocks.set_index('Date')\n",
    "    \n",
    "    train_size = int(len(news_stocks) * 0.80)\n",
    "    test_size = len(news_stocks) - train_size\n",
    "    train, test = news_stocks.iloc[:train_size], news_stocks.iloc[train_size:]\n",
    "    print(stock, ':\\t',len(train), len(test))    \n",
    "    df_train.append(train)\n",
    "    df_test.append(test)\n",
    "    \n",
    "\n",
    "df_train = pd.concat(df_train, axis=0)\n",
    "df_test = pd.concat(df_test, axis=0)\n",
    "\n",
    "len(df_train), len(df_test) \n",
    "df_train.head(1)\n",
    "df_test.head(1)"
   ]
  },
  {
   "cell_type": "code",
   "execution_count": 25,
   "metadata": {},
   "outputs": [],
   "source": [
    "# df_train.to_csv('data/pantip_train_(t-3).csv', index=False)\n",
    "# df_test.to_csv('data/pantip_test_(t-3).csv', index=False)"
   ]
  },
  {
   "cell_type": "markdown",
   "metadata": {},
   "source": [
    "# TF-IDF Vetorization"
   ]
  },
  {
   "cell_type": "code",
   "execution_count": 21,
   "metadata": {},
   "outputs": [
    {
     "data": {
      "text/plain": [
       "(4730, 1194)"
      ]
     },
     "execution_count": 21,
     "metadata": {},
     "output_type": "execute_result"
    },
    {
     "data": {
      "text/html": [
       "<div>\n",
       "<style scoped>\n",
       "    .dataframe tbody tr th:only-of-type {\n",
       "        vertical-align: middle;\n",
       "    }\n",
       "\n",
       "    .dataframe tbody tr th {\n",
       "        vertical-align: top;\n",
       "    }\n",
       "\n",
       "    .dataframe thead th {\n",
       "        text-align: right;\n",
       "    }\n",
       "</style>\n",
       "<table border=\"1\" class=\"dataframe\">\n",
       "  <thead>\n",
       "    <tr style=\"text-align: right;\">\n",
       "      <th></th>\n",
       "      <th>Ticker</th>\n",
       "      <th>Close(t+1)</th>\n",
       "      <th>Open(t)</th>\n",
       "      <th>High(t)</th>\n",
       "      <th>Low(t)</th>\n",
       "      <th>Close(t)</th>\n",
       "      <th>Open(t-1)</th>\n",
       "      <th>High(t-1)</th>\n",
       "      <th>Low(t-1)</th>\n",
       "      <th>Close(t-1)</th>\n",
       "      <th>...</th>\n",
       "      <th>2990</th>\n",
       "      <th>2991</th>\n",
       "      <th>2992</th>\n",
       "      <th>2993</th>\n",
       "      <th>2994</th>\n",
       "      <th>2995</th>\n",
       "      <th>2996</th>\n",
       "      <th>2997</th>\n",
       "      <th>2998</th>\n",
       "      <th>2999</th>\n",
       "    </tr>\n",
       "    <tr>\n",
       "      <th>Date</th>\n",
       "      <th></th>\n",
       "      <th></th>\n",
       "      <th></th>\n",
       "      <th></th>\n",
       "      <th></th>\n",
       "      <th></th>\n",
       "      <th></th>\n",
       "      <th></th>\n",
       "      <th></th>\n",
       "      <th></th>\n",
       "      <th></th>\n",
       "      <th></th>\n",
       "      <th></th>\n",
       "      <th></th>\n",
       "      <th></th>\n",
       "      <th></th>\n",
       "      <th></th>\n",
       "      <th></th>\n",
       "      <th></th>\n",
       "      <th></th>\n",
       "      <th></th>\n",
       "    </tr>\n",
       "  </thead>\n",
       "  <tbody>\n",
       "    <tr>\n",
       "      <th>2014-01-06</th>\n",
       "      <td>2</td>\n",
       "      <td>26.0</td>\n",
       "      <td>26.0</td>\n",
       "      <td>26.25</td>\n",
       "      <td>24.8</td>\n",
       "      <td>25.25</td>\n",
       "      <td>27.5</td>\n",
       "      <td>28.25</td>\n",
       "      <td>26.5</td>\n",
       "      <td>26.50</td>\n",
       "      <td>...</td>\n",
       "      <td>0.0</td>\n",
       "      <td>0.0</td>\n",
       "      <td>0.0</td>\n",
       "      <td>0.0</td>\n",
       "      <td>0.0</td>\n",
       "      <td>0.0</td>\n",
       "      <td>0.0</td>\n",
       "      <td>0.0</td>\n",
       "      <td>0.0</td>\n",
       "      <td>0.0</td>\n",
       "    </tr>\n",
       "    <tr>\n",
       "      <th>2014-01-07</th>\n",
       "      <td>2</td>\n",
       "      <td>26.5</td>\n",
       "      <td>25.0</td>\n",
       "      <td>26.50</td>\n",
       "      <td>25.0</td>\n",
       "      <td>26.00</td>\n",
       "      <td>26.0</td>\n",
       "      <td>26.25</td>\n",
       "      <td>24.8</td>\n",
       "      <td>25.25</td>\n",
       "      <td>...</td>\n",
       "      <td>0.0</td>\n",
       "      <td>0.0</td>\n",
       "      <td>0.0</td>\n",
       "      <td>0.0</td>\n",
       "      <td>0.0</td>\n",
       "      <td>0.0</td>\n",
       "      <td>0.0</td>\n",
       "      <td>0.0</td>\n",
       "      <td>0.0</td>\n",
       "      <td>0.0</td>\n",
       "    </tr>\n",
       "  </tbody>\n",
       "</table>\n",
       "<p>2 rows × 3018 columns</p>\n",
       "</div>"
      ],
      "text/plain": [
       "            Ticker  Close(t+1)  Open(t)  High(t)  Low(t)  Close(t)  Open(t-1)  \\\n",
       "Date                                                                            \n",
       "2014-01-06       2        26.0     26.0    26.25    24.8     25.25       27.5   \n",
       "2014-01-07       2        26.5     25.0    26.50    25.0     26.00       26.0   \n",
       "\n",
       "            High(t-1)  Low(t-1)  Close(t-1)  ...   2990  2991  2992  2993  \\\n",
       "Date                                         ...                            \n",
       "2014-01-06      28.25      26.5       26.50  ...    0.0   0.0   0.0   0.0   \n",
       "2014-01-07      26.25      24.8       25.25  ...    0.0   0.0   0.0   0.0   \n",
       "\n",
       "            2994  2995  2996  2997  2998  2999  \n",
       "Date                                            \n",
       "2014-01-06   0.0   0.0   0.0   0.0   0.0   0.0  \n",
       "2014-01-07   0.0   0.0   0.0   0.0   0.0   0.0  \n",
       "\n",
       "[2 rows x 3018 columns]"
      ]
     },
     "execution_count": 21,
     "metadata": {},
     "output_type": "execute_result"
    },
    {
     "data": {
      "text/html": [
       "<div>\n",
       "<style scoped>\n",
       "    .dataframe tbody tr th:only-of-type {\n",
       "        vertical-align: middle;\n",
       "    }\n",
       "\n",
       "    .dataframe tbody tr th {\n",
       "        vertical-align: top;\n",
       "    }\n",
       "\n",
       "    .dataframe thead th {\n",
       "        text-align: right;\n",
       "    }\n",
       "</style>\n",
       "<table border=\"1\" class=\"dataframe\">\n",
       "  <thead>\n",
       "    <tr style=\"text-align: right;\">\n",
       "      <th></th>\n",
       "      <th>Ticker</th>\n",
       "      <th>Close(t+1)</th>\n",
       "      <th>Open(t)</th>\n",
       "      <th>High(t)</th>\n",
       "      <th>Low(t)</th>\n",
       "      <th>Close(t)</th>\n",
       "      <th>Open(t-1)</th>\n",
       "      <th>High(t-1)</th>\n",
       "      <th>Low(t-1)</th>\n",
       "      <th>Close(t-1)</th>\n",
       "      <th>...</th>\n",
       "      <th>2990</th>\n",
       "      <th>2991</th>\n",
       "      <th>2992</th>\n",
       "      <th>2993</th>\n",
       "      <th>2994</th>\n",
       "      <th>2995</th>\n",
       "      <th>2996</th>\n",
       "      <th>2997</th>\n",
       "      <th>2998</th>\n",
       "      <th>2999</th>\n",
       "    </tr>\n",
       "    <tr>\n",
       "      <th>Date</th>\n",
       "      <th></th>\n",
       "      <th></th>\n",
       "      <th></th>\n",
       "      <th></th>\n",
       "      <th></th>\n",
       "      <th></th>\n",
       "      <th></th>\n",
       "      <th></th>\n",
       "      <th></th>\n",
       "      <th></th>\n",
       "      <th></th>\n",
       "      <th></th>\n",
       "      <th></th>\n",
       "      <th></th>\n",
       "      <th></th>\n",
       "      <th></th>\n",
       "      <th></th>\n",
       "      <th></th>\n",
       "      <th></th>\n",
       "      <th></th>\n",
       "      <th></th>\n",
       "    </tr>\n",
       "  </thead>\n",
       "  <tbody>\n",
       "    <tr>\n",
       "      <th>2017-04-26</th>\n",
       "      <td>2</td>\n",
       "      <td>19.5</td>\n",
       "      <td>19.5</td>\n",
       "      <td>19.7</td>\n",
       "      <td>19.0</td>\n",
       "      <td>19.3</td>\n",
       "      <td>20.6</td>\n",
       "      <td>20.6</td>\n",
       "      <td>19.3</td>\n",
       "      <td>19.5</td>\n",
       "      <td>...</td>\n",
       "      <td>0.0</td>\n",
       "      <td>0.0</td>\n",
       "      <td>0.0</td>\n",
       "      <td>0.0</td>\n",
       "      <td>0.0</td>\n",
       "      <td>0.0</td>\n",
       "      <td>0.0</td>\n",
       "      <td>0.0</td>\n",
       "      <td>0.0</td>\n",
       "      <td>0.0</td>\n",
       "    </tr>\n",
       "    <tr>\n",
       "      <th>2017-05-10</th>\n",
       "      <td>2</td>\n",
       "      <td>17.9</td>\n",
       "      <td>19.2</td>\n",
       "      <td>19.3</td>\n",
       "      <td>18.4</td>\n",
       "      <td>18.5</td>\n",
       "      <td>19.2</td>\n",
       "      <td>19.4</td>\n",
       "      <td>19.1</td>\n",
       "      <td>19.2</td>\n",
       "      <td>...</td>\n",
       "      <td>0.0</td>\n",
       "      <td>0.0</td>\n",
       "      <td>0.0</td>\n",
       "      <td>0.0</td>\n",
       "      <td>0.0</td>\n",
       "      <td>0.0</td>\n",
       "      <td>0.0</td>\n",
       "      <td>0.0</td>\n",
       "      <td>0.0</td>\n",
       "      <td>0.0</td>\n",
       "    </tr>\n",
       "  </tbody>\n",
       "</table>\n",
       "<p>2 rows × 3018 columns</p>\n",
       "</div>"
      ],
      "text/plain": [
       "            Ticker  Close(t+1)  Open(t)  High(t)  Low(t)  Close(t)  Open(t-1)  \\\n",
       "Date                                                                            \n",
       "2017-04-26       2        19.5     19.5     19.7    19.0      19.3       20.6   \n",
       "2017-05-10       2        17.9     19.2     19.3    18.4      18.5       19.2   \n",
       "\n",
       "            High(t-1)  Low(t-1)  Close(t-1)  ...   2990  2991  2992  2993  \\\n",
       "Date                                         ...                            \n",
       "2017-04-26       20.6      19.3        19.5  ...    0.0   0.0   0.0   0.0   \n",
       "2017-05-10       19.4      19.1        19.2  ...    0.0   0.0   0.0   0.0   \n",
       "\n",
       "            2994  2995  2996  2997  2998  2999  \n",
       "Date                                            \n",
       "2017-04-26   0.0   0.0   0.0   0.0   0.0   0.0  \n",
       "2017-05-10   0.0   0.0   0.0   0.0   0.0   0.0  \n",
       "\n",
       "[2 rows x 3018 columns]"
      ]
     },
     "execution_count": 21,
     "metadata": {},
     "output_type": "execute_result"
    },
    {
     "data": {
      "text/plain": [
       "array(['ADVANC', 'AOT', 'BANPU', 'BBL', 'BDMS', 'BH', 'CK', 'CPALL',\n",
       "       'CPF', 'CPN', 'HMPRO', 'IRPC', 'JAS', 'KBANK', 'MINT', 'PTT',\n",
       "       'SCB', 'SCC', 'THAI', 'TRUE', 'TU'], dtype=object)"
      ]
     },
     "execution_count": 21,
     "metadata": {},
     "output_type": "execute_result"
    }
   ],
   "source": [
    "stop_words = stopwords.words('thai')\n",
    "stop_words.remove('ขึ้น')\n",
    "stop_words.remove('ลง')\n",
    "\n",
    "vertorizer = TfidfVectorizer(stop_words=stop_words, \n",
    "                             max_df=0.9, \n",
    "                             min_df=2, \n",
    "                             max_features=3000)\n",
    "\n",
    "tfidf_train = vertorizer.fit_transform(df_train['Text'])\n",
    "tfidf_test = vertorizer.transform(df_test['Text'])\n",
    "\n",
    "df_tfidf_train = pd.DataFrame.from_records(tfidf_train.toarray())\n",
    "df_tfidf_test = pd.DataFrame.from_records(tfidf_test.toarray())\n",
    "\n",
    "df_tfidf_train = df_tfidf_train.set_index(df_train.index)\n",
    "df_tfidf_test = df_tfidf_test.set_index(df_test.index)\n",
    "\n",
    "len(df_tfidf_train), len(df_tfidf_test)\n",
    "\n",
    "# replace Text with TF-IDF vector\n",
    "x_train = df_train.drop(['Text'], axis=1)\n",
    "x_train = pd.concat([x_train, df_tfidf_train], axis=1)\n",
    "\n",
    "x_test = df_test.drop(['Text'], axis=1)\n",
    "x_test = pd.concat([x_test, df_tfidf_test], axis=1)\n",
    "\n",
    "# Label Encoding\n",
    "le = preprocessing.LabelEncoder()\n",
    "x_train['Ticker'] = le.fit_transform(x_train['Ticker'])\n",
    "x_test['Ticker'] = le.transform(x_test['Ticker'])\n",
    "x_train.head(2)\n",
    "x_test.head(2)\n",
    "le.classes_"
   ]
  },
  {
   "cell_type": "markdown",
   "metadata": {},
   "source": [
    "# Create x_train and y_train"
   ]
  },
  {
   "cell_type": "code",
   "execution_count": 22,
   "metadata": {},
   "outputs": [
    {
     "data": {
      "text/plain": [
       "((4730, 3017), (4730, 1))"
      ]
     },
     "execution_count": 22,
     "metadata": {},
     "output_type": "execute_result"
    }
   ],
   "source": [
    "Horizon = 'Close(t+1)'\n",
    "y_train = x_train[[Horizon]]\n",
    "x_train = x_train.drop(['Close(t+1)'], axis=1).copy()\n",
    "x_train.shape, y_train.shape"
   ]
  },
  {
   "cell_type": "markdown",
   "metadata": {},
   "source": [
    "# Evaluate Each Stcok"
   ]
  },
  {
   "cell_type": "code",
   "execution_count": 50,
   "metadata": {},
   "outputs": [],
   "source": [
    "def mean_absolute_percentage_error(y_true, y_pred): \n",
    "    return np.mean(np.abs((y_true - y_pred) / y_true)) * 100\n",
    "\n",
    "def evaluator(clf, df_test, le, isXGB=False, isLSTM=False):\n",
    "    RMSEs, MAEs, MAPEs, DAs = [], [], [], []\n",
    "    results = []\n",
    "    for stock in target_stocks:\n",
    "        x_tmp = df_test.loc[df_test['Ticker'] == le.transform([stock])[0]].copy()\n",
    "        \n",
    "        y_tmp = x_tmp[Horizon].values\n",
    "        \n",
    "        # Directional Accuracy\n",
    "        changes = x_tmp[Horizon] -  x_tmp['Close(t)']\n",
    "        y_true_da = []\n",
    "        for change in changes:\n",
    "            y_true_da.append(1 if change >= 0 else 0)\n",
    "                \n",
    "        x_tmp = x_tmp.drop(['Close(t+1)'], axis=1)\n",
    "        \n",
    "        if isXGB:\n",
    "            y_pred = clf.predict(xgboost.DMatrix(x_tmp))\n",
    "        elif isLSTM:\n",
    "            x = x_tmp.values\n",
    "            x = x.reshape((x.shape[0], x.shape[1], 1))\n",
    "            y_pred = clf.predict(x)\n",
    "        else:\n",
    "            y_pred = clf.predict(x_tmp.as_matrix())\n",
    "        \n",
    "        # Directional Accuracy Pred\n",
    "        changes = np.reshape(y_pred, (-1,1)) -  np.reshape(x_tmp['Close(t)'].values,(-1,1))\n",
    "        y_pred_da = []\n",
    "        for change in changes:\n",
    "            y_pred_da.append(1 if change >= 0 else 0)\n",
    "        \n",
    "        RMSE = np.sqrt(mean_squared_error(y_tmp, y_pred))\n",
    "        MAE = mean_absolute_error(y_tmp, y_pred)\n",
    "        MAPE = mean_absolute_percentage_error(y_tmp, y_pred)\n",
    "        DA = accuracy_score(y_true_da, y_pred_da)\n",
    "        print(stock, \"\\tRMSE: %.2f\\t MAE: %.2f \\tMAPE: %.2f \\tDA: %.2f\" % (RMSE, MAE, MAPE, DA))\n",
    "        RMSEs.append(RMSE)\n",
    "        MAEs.append(MAE)\n",
    "        MAPEs.append(MAPE)\n",
    "        DAs.append(DA)\n",
    "    \n",
    "    print('\\nmean RMSE:', round(np.mean(RMSEs),2))\n",
    "    print('mean MAE:', round(np.mean(MAEs),2))\n",
    "    print('mean MAPE:', round(np.mean(MAPEs),2))\n",
    "    print('mean DA:', round(np.mean(DAs),4))"
   ]
  },
  {
   "cell_type": "code",
   "execution_count": 51,
   "metadata": {},
   "outputs": [],
   "source": [
    "def ensemble_evaluator(bagging, ada_dt, ada_rf,  xgb, stack, stack_da, df_test, le, feature_importances, feature_importances_da):\n",
    "    RMSEs, MAEs, MAPEs, DAs = [], [], [], []\n",
    "    results = []\n",
    "    for stock in target_stocks:\n",
    "        x_tmp = df_test.loc[df_test['Ticker'] == le.transform([stock])[0]].copy()\n",
    "        \n",
    "        # Directional Accuracy\n",
    "        changes = x_tmp[Horizon] - x_tmp['Close(t)']\n",
    "        y_true_da = []\n",
    "        for change in changes:\n",
    "            y_true_da.append(1 if change >= 0 else 0)\n",
    "        \n",
    "        y_tmp = x_tmp[Horizon].values.reshape(-1,1)\n",
    "        x_tmp = x_tmp.drop([Horizon], axis=1)        \n",
    "        \n",
    "        # Prediction\n",
    "        y_pred = np.concatenate((\n",
    "                                 bagging.predict(x_tmp).reshape(-1,1),\n",
    "                                 ada_dt.predict(x_tmp).reshape(-1,1),\n",
    "                                 ada_rf.predict(x_tmp).reshape(-1,1),\n",
    "                                 xgb.predict(xgboost.DMatrix(x_tmp)).reshape(-1,1)), \n",
    "                                axis=1)\n",
    "        \n",
    "        df_pred = pd.DataFrame.from_records(y_pred).round(2)\n",
    "        df_pred.columns = ['Bagging_DT', 'Ada_DT', 'Ada_RF', 'XGB']\n",
    "        df_pred.head()\n",
    "\n",
    "        # Directional Accuracy Pred\n",
    "        close_t = np.reshape(x_tmp['Close(t)'].values, (-1, 1))\n",
    "        y_changes = np.concatenate((\n",
    "                                    np.array(y_pred[:,0]).reshape(-1,1)-close_t,\n",
    "                                    np.array(y_pred[:,1]).reshape(-1,1)-close_t,\n",
    "                                    np.array(y_pred[:,2]).reshape(-1,1)-close_t,\n",
    "                                    np.array(y_pred[:,3]).reshape(-1,1)-close_t,\n",
    "                                   ), axis=1)\n",
    "        y_pred_da = []\n",
    "        for row in y_changes:\n",
    "            tmp_row = []\n",
    "            for change in row:\n",
    "                tmp_row.append(1 if change>=0 else 0)\n",
    "            y_pred_da.append(tmp_row)\n",
    "\n",
    "        df_pred_da = pd.DataFrame.from_records(y_pred_da)\n",
    "        df_pred_da.columns = ['Bagging_DT', 'Ada_DT', 'Ada_RF', 'XGB']\n",
    "        df_pred_da.head()\n",
    "        \n",
    "        \n",
    "        \n",
    "        df_pred['weight'] = (\n",
    "                     df_pred['Bagging_DT']*feature_importances[0] + \n",
    "                     df_pred['Ada_DT']*feature_importances[1] + \n",
    "                     df_pred['Ada_RF']*feature_importances[2] + \n",
    "                     df_pred['XGB']*feature_importances[3]\n",
    "        )\n",
    "        \n",
    "        df_pred_da['vote'] = (\n",
    "                     df_pred_da['Bagging_DT']*feature_importances_da[0] + \n",
    "                     df_pred_da['Ada_DT']*feature_importances_da[1] + \n",
    "                     df_pred_da['Ada_RF']*feature_importances_da[2] + \n",
    "                     df_pred_da['XGB']*feature_importances_da[3]\n",
    "        ).round(0).astype(int)\n",
    "\n",
    "        y_pred = stack.predict(y_pred).reshape(-1,1)\n",
    "        y_pred_da = stack_da.predict(y_pred_da).reshape(-1,1).round(0).astype(int)\n",
    "#         y_pred = df_pred['weight'].values.reshape(-1,1)\n",
    "#         y_pred_da = df_pred_da['vote'].values.reshape(-1,1)\n",
    "        \n",
    "        RMSE = np.sqrt(mean_squared_error(y_tmp, y_pred))\n",
    "        MAE = mean_absolute_error(y_tmp, y_pred)\n",
    "        MAPE = mean_absolute_percentage_error(y_tmp, y_pred)\n",
    "        DA = accuracy_score(y_true_da, y_pred_da)\n",
    "        print(stock, \"\\tRMSE: %.2f\\t MAE: %.2f \\tMAPE: %.2f \\tDA: %.2f\" % (RMSE, MAE, MAPE, DA))\n",
    "        RMSEs.append(RMSE)\n",
    "        MAEs.append(MAE)\n",
    "        MAPEs.append(MAPE)\n",
    "        DAs.append(DA)\n",
    "    \n",
    "    print('\\nmean RMSE:', round(np.mean(RMSEs),2))\n",
    "    print('mean MAE:', round(np.mean(MAEs),2))\n",
    "    print('mean MAPE:', round(np.mean(MAPEs),2))\n",
    "    print('mean DA:', round(np.mean(DAs),4))"
   ]
  },
  {
   "cell_type": "markdown",
   "metadata": {},
   "source": [
    "# Ensemble"
   ]
  },
  {
   "cell_type": "code",
   "execution_count": 52,
   "metadata": {},
   "outputs": [
    {
     "name": "stdout",
     "output_type": "stream",
     "text": [
      "BANPU \tRMSE: 0.44\t MAE: 0.35 \tMAPE: 1.85 \tDA: 0.51\n",
      "IRPC \tRMSE: 0.11\t MAE: 0.09 \tMAPE: 1.70 \tDA: 0.35\n",
      "PTT \tRMSE: 6.90\t MAE: 5.66 \tMAPE: 1.40 \tDA: 0.50\n",
      "BBL \tRMSE: 2.29\t MAE: 1.82 \tMAPE: 1.07 \tDA: 0.62\n",
      "KBANK \tRMSE: 4.39\t MAE: 3.10 \tMAPE: 1.68 \tDA: 0.45\n",
      "SCB \tRMSE: 1.90\t MAE: 1.45 \tMAPE: 0.96 \tDA: 0.53\n",
      "AOT \tRMSE: 6.95\t MAE: 4.66 \tMAPE: 6.79 \tDA: 0.46\n",
      "THAI \tRMSE: 0.67\t MAE: 0.43 \tMAPE: 2.12 \tDA: 0.67\n",
      "CPF \tRMSE: 0.43\t MAE: 0.33 \tMAPE: 1.28 \tDA: 0.52\n",
      "MINT \tRMSE: 0.75\t MAE: 0.65 \tMAPE: 1.68 \tDA: 0.47\n",
      "TU \tRMSE: 0.38\t MAE: 0.28 \tMAPE: 1.39 \tDA: 0.58\n",
      "SCC \tRMSE: 7.28\t MAE: 6.04 \tMAPE: 1.22 \tDA: 0.45\n",
      "CPN \tRMSE: 6.94\t MAE: 5.80 \tMAPE: 8.31 \tDA: 0.43\n",
      "CK \tRMSE: 0.47\t MAE: 0.40 \tMAPE: 1.37 \tDA: 0.58\n",
      "CPALL \tRMSE: 5.67\t MAE: 4.45 \tMAPE: 6.65 \tDA: 0.33\n",
      "HMPRO \tRMSE: 0.24\t MAE: 0.17 \tMAPE: 1.68 \tDA: 0.68\n",
      "BDMS \tRMSE: 0.33\t MAE: 0.27 \tMAPE: 1.31 \tDA: 0.61\n",
      "BH \tRMSE: 4.10\t MAE: 2.50 \tMAPE: 1.38 \tDA: 0.76\n",
      "ADVANC \tRMSE: 2.12\t MAE: 1.64 \tMAPE: 0.97 \tDA: 0.45\n",
      "JAS \tRMSE: 0.24\t MAE: 0.16 \tMAPE: 2.09 \tDA: 0.50\n",
      "TRUE \tRMSE: 0.14\t MAE: 0.10 \tMAPE: 1.65 \tDA: 0.44\n",
      "\n",
      "mean RMSE: 2.51\n",
      "mean MAE: 1.92\n",
      "mean MAPE: 2.31\n",
      "mean DA: 0.519\n"
     ]
    }
   ],
   "source": [
    "ensemble_evaluator( \n",
    "                   bagging,\n",
    "                   adaboost_dt_regr, \n",
    "                   adaboost_rf_regr, \n",
    "                   xgb,\n",
    "                   stack, stack_da,\n",
    "                   x_test, le, feature_importances, feature_importances_da)"
   ]
  },
  {
   "cell_type": "markdown",
   "metadata": {},
   "source": [
    "# Linear Regression"
   ]
  },
  {
   "cell_type": "code",
   "execution_count": 7,
   "metadata": {},
   "outputs": [
    {
     "data": {
      "text/plain": [
       "LinearRegression(copy_X=True, fit_intercept=True, n_jobs=1, normalize=False)"
      ]
     },
     "execution_count": 7,
     "metadata": {},
     "output_type": "execute_result"
    },
    {
     "name": "stdout",
     "output_type": "stream",
     "text": [
      "BANPU \tRMSE: 3.35\t MAE: 2.53 \tMAPE: 20.05 \tDA: 0.65\n",
      "IRPC \tRMSE: 3.24\t MAE: 2.66 \tMAPE: 49.80 \tDA: 0.50\n",
      "PTT \tRMSE: 6.81\t MAE: 5.14 \tMAPE: 13.22 \tDA: 0.55\n",
      "BBL \tRMSE: 4.81\t MAE: 3.44 \tMAPE: 9.39 \tDA: 0.46\n",
      "KBANK \tRMSE: 5.24\t MAE: 3.88 \tMAPE: 10.75 \tDA: 0.55\n",
      "SCB \tRMSE: 1.97\t MAE: 1.55 \tMAPE: 3.27 \tDA: 0.52\n",
      "AOT \tRMSE: 3.29\t MAE: 2.74 \tMAPE: 13.21 \tDA: 0.54\n",
      "THAI \tRMSE: 3.81\t MAE: 2.79 \tMAPE: 19.78 \tDA: 0.58\n",
      "CPF \tRMSE: 3.30\t MAE: 2.62 \tMAPE: 12.04 \tDA: 0.52\n",
      "MINT \tRMSE: 2.52\t MAE: 2.01 \tMAPE: 10.67 \tDA: 0.47\n",
      "TU \tRMSE: 3.08\t MAE: 2.11 \tMAPE: 11.63 \tDA: 0.50\n",
      "SCC \tRMSE: 6.10\t MAE: 4.94 \tMAPE: 2.51 \tDA: 0.52\n",
      "CPN \tRMSE: 2.97\t MAE: 2.53 \tMAPE: 15.82 \tDA: 0.57\n",
      "CK \tRMSE: 2.97\t MAE: 2.42 \tMAPE: 9.76 \tDA: 0.61\n",
      "CPALL \tRMSE: 3.73\t MAE: 2.91 \tMAPE: 9.19 \tDA: 0.62\n",
      "HMPRO \tRMSE: 4.48\t MAE: 2.85 \tMAPE: 35.29 \tDA: 0.60\n",
      "BDMS \tRMSE: 3.08\t MAE: 2.37 \tMAPE: 13.61 \tDA: 0.50\n",
      "BH \tRMSE: 5.74\t MAE: 4.76 \tMAPE: 11.87 \tDA: 0.38\n",
      "ADVANC \tRMSE: 3.68\t MAE: 2.78 \tMAPE: 10.76 \tDA: 0.54\n",
      "JAS \tRMSE: 3.07\t MAE: 2.36 \tMAPE: 35.48 \tDA: 0.49\n",
      "TRUE \tRMSE: 3.03\t MAE: 2.24 \tMAPE: 39.00 \tDA: 0.54\n",
      "\n",
      "mean RMSE: 3.82\n",
      "mean MAE: 2.93\n",
      "mean MAPE: 17.01\n",
      "mean DA: 0.534\n"
     ]
    }
   ],
   "source": [
    "from sklearn import linear_model\n",
    "\n",
    "lineregr = linear_model.LinearRegression()\n",
    "lineregr.fit(x_train, y_train)\n",
    "\n",
    "evaluator(lineregr, x_test, le)"
   ]
  },
  {
   "cell_type": "markdown",
   "metadata": {},
   "source": [
    "# Support Vector Regressor"
   ]
  },
  {
   "cell_type": "code",
   "execution_count": 8,
   "metadata": {},
   "outputs": [],
   "source": [
    "# from sklearn.svm import SVR\n",
    "# svr = SVR()\n",
    "# svr.fit(x_train, y_train)\n",
    "\n",
    "# evaluator(svr, x_test, le)"
   ]
  },
  {
   "cell_type": "markdown",
   "metadata": {},
   "source": [
    "# Decistion Tree Regressor"
   ]
  },
  {
   "cell_type": "code",
   "execution_count": 9,
   "metadata": {},
   "outputs": [
    {
     "data": {
      "text/plain": [
       "DecisionTreeRegressor(criterion='mse', max_depth=None, max_features=None,\n",
       "           max_leaf_nodes=None, min_impurity_decrease=0.0,\n",
       "           min_impurity_split=None, min_samples_leaf=1,\n",
       "           min_samples_split=2, min_weight_fraction_leaf=0.0,\n",
       "           presort=False, random_state=None, splitter='best')"
      ]
     },
     "execution_count": 9,
     "metadata": {},
     "output_type": "execute_result"
    },
    {
     "name": "stdout",
     "output_type": "stream",
     "text": [
      "BANPU \tRMSE: 0.52\t MAE: 0.38 \tMAPE: 2.02 \tDA: 0.58\n",
      "IRPC \tRMSE: 0.22\t MAE: 0.16 \tMAPE: 3.01 \tDA: 0.50\n",
      "PTT \tRMSE: 10.88\t MAE: 8.51 \tMAPE: 2.09 \tDA: 0.48\n",
      "BBL \tRMSE: 3.82\t MAE: 3.07 \tMAPE: 1.79 \tDA: 0.57\n",
      "KBANK \tRMSE: 4.48\t MAE: 3.62 \tMAPE: 1.94 \tDA: 0.55\n",
      "SCB \tRMSE: 2.77\t MAE: 2.09 \tMAPE: 1.38 \tDA: 0.53\n",
      "AOT \tRMSE: 7.15\t MAE: 4.73 \tMAPE: 6.92 \tDA: 0.49\n",
      "THAI \tRMSE: 0.75\t MAE: 0.46 \tMAPE: 2.24 \tDA: 0.67\n",
      "CPF \tRMSE: 0.72\t MAE: 0.51 \tMAPE: 1.94 \tDA: 0.59\n",
      "MINT \tRMSE: 0.73\t MAE: 0.57 \tMAPE: 1.51 \tDA: 0.47\n",
      "TU \tRMSE: 0.39\t MAE: 0.33 \tMAPE: 1.70 \tDA: 0.50\n",
      "SCC \tRMSE: 6.45\t MAE: 5.29 \tMAPE: 1.06 \tDA: 0.48\n",
      "CPN \tRMSE: 7.48\t MAE: 6.21 \tMAPE: 8.79 \tDA: 0.43\n",
      "CK \tRMSE: 0.70\t MAE: 0.58 \tMAPE: 1.98 \tDA: 0.52\n",
      "CPALL \tRMSE: 5.70\t MAE: 3.97 \tMAPE: 5.86 \tDA: 0.42\n",
      "HMPRO \tRMSE: 0.30\t MAE: 0.23 \tMAPE: 2.20 \tDA: 0.49\n",
      "BDMS \tRMSE: 1.53\t MAE: 0.69 \tMAPE: 3.44 \tDA: 0.57\n",
      "BH \tRMSE: 4.95\t MAE: 3.33 \tMAPE: 1.81 \tDA: 0.67\n",
      "ADVANC \tRMSE: 3.67\t MAE: 2.90 \tMAPE: 1.72 \tDA: 0.53\n",
      "JAS \tRMSE: 0.31\t MAE: 0.22 \tMAPE: 2.83 \tDA: 0.56\n",
      "TRUE \tRMSE: 0.24\t MAE: 0.17 \tMAPE: 2.73 \tDA: 0.47\n",
      "\n",
      "mean RMSE: 3.04\n",
      "mean MAE: 2.29\n",
      "mean MAPE: 2.81\n",
      "mean DA: 0.5263\n"
     ]
    }
   ],
   "source": [
    "decis_tree_regr = tree.DecisionTreeRegressor(max_depth=None)\n",
    "decis_tree_regr.fit(x_train, y_train.values.ravel())\n",
    "\n",
    "evaluator(decis_tree_regr, x_test, le)"
   ]
  },
  {
   "cell_type": "markdown",
   "metadata": {},
   "source": [
    "# Random Forest Regrssor"
   ]
  },
  {
   "cell_type": "code",
   "execution_count": 11,
   "metadata": {},
   "outputs": [
    {
     "data": {
      "text/plain": [
       "RandomForestRegressor(bootstrap=True, criterion='mse', max_depth=None,\n",
       "           max_features='auto', max_leaf_nodes=None,\n",
       "           min_impurity_decrease=0.0, min_impurity_split=None,\n",
       "           min_samples_leaf=1, min_samples_split=2,\n",
       "           min_weight_fraction_leaf=0.0, n_estimators=10, n_jobs=-1,\n",
       "           oob_score=False, random_state=None, verbose=0, warm_start=False)"
      ]
     },
     "execution_count": 11,
     "metadata": {},
     "output_type": "execute_result"
    },
    {
     "name": "stdout",
     "output_type": "stream",
     "text": [
      "BANPU \tRMSE: 0.50\t MAE: 0.37 \tMAPE: 1.93 \tDA: 0.58\n",
      "IRPC \tRMSE: 0.13\t MAE: 0.11 \tMAPE: 1.96 \tDA: 0.35\n",
      "PTT \tRMSE: 8.99\t MAE: 6.28 \tMAPE: 1.55 \tDA: 0.40\n",
      "BBL \tRMSE: 2.41\t MAE: 1.91 \tMAPE: 1.12 \tDA: 0.62\n",
      "KBANK \tRMSE: 4.19\t MAE: 3.22 \tMAPE: 1.74 \tDA: 0.38\n",
      "SCB \tRMSE: 1.79\t MAE: 1.40 \tMAPE: 0.91 \tDA: 0.50\n",
      "AOT \tRMSE: 6.75\t MAE: 5.07 \tMAPE: 7.56 \tDA: 0.39\n",
      "THAI \tRMSE: 0.74\t MAE: 0.47 \tMAPE: 2.26 \tDA: 0.67\n",
      "CPF \tRMSE: 0.51\t MAE: 0.41 \tMAPE: 1.59 \tDA: 0.48\n",
      "MINT \tRMSE: 0.65\t MAE: 0.51 \tMAPE: 1.31 \tDA: 0.41\n",
      "TU \tRMSE: 0.34\t MAE: 0.26 \tMAPE: 1.30 \tDA: 0.75\n",
      "SCC \tRMSE: 5.35\t MAE: 4.54 \tMAPE: 0.91 \tDA: 0.32\n",
      "CPN \tRMSE: 8.19\t MAE: 6.98 \tMAPE: 10.03 \tDA: 0.36\n",
      "CK \tRMSE: 0.51\t MAE: 0.41 \tMAPE: 1.39 \tDA: 0.48\n",
      "CPALL \tRMSE: 6.82\t MAE: 5.99 \tMAPE: 9.12 \tDA: 0.33\n",
      "HMPRO \tRMSE: 0.27\t MAE: 0.20 \tMAPE: 1.93 \tDA: 0.60\n",
      "BDMS \tRMSE: 0.44\t MAE: 0.30 \tMAPE: 1.48 \tDA: 0.57\n",
      "BH \tRMSE: 4.04\t MAE: 2.47 \tMAPE: 1.38 \tDA: 0.62\n",
      "ADVANC \tRMSE: 2.08\t MAE: 1.62 \tMAPE: 0.97 \tDA: 0.50\n",
      "JAS \tRMSE: 0.28\t MAE: 0.19 \tMAPE: 2.51 \tDA: 0.42\n",
      "TRUE \tRMSE: 0.15\t MAE: 0.11 \tMAPE: 1.80 \tDA: 0.49\n",
      "\n",
      "mean RMSE: 2.63\n",
      "mean MAE: 2.04\n",
      "mean MAPE: 2.61\n",
      "mean DA: 0.4869\n"
     ]
    }
   ],
   "source": [
    "rnd_forest_regr = ensemble.RandomForestRegressor(n_jobs=-1,\n",
    "                                                max_depth=None,\n",
    "                                                n_estimators=10)\n",
    "rnd_forest_regr.fit(x_train, y_train.values.ravel())\n",
    "\n",
    "evaluator(rnd_forest_regr, x_test, le)"
   ]
  },
  {
   "cell_type": "markdown",
   "metadata": {},
   "source": [
    "# Bagging Regressor"
   ]
  },
  {
   "cell_type": "code",
   "execution_count": 12,
   "metadata": {},
   "outputs": [
    {
     "data": {
      "text/plain": [
       "BaggingRegressor(base_estimator=None, bootstrap=True,\n",
       "         bootstrap_features=False, max_features=1.0, max_samples=1.0,\n",
       "         n_estimators=30, n_jobs=-1, oob_score=False, random_state=None,\n",
       "         verbose=0, warm_start=False)"
      ]
     },
     "execution_count": 12,
     "metadata": {},
     "output_type": "execute_result"
    },
    {
     "name": "stdout",
     "output_type": "stream",
     "text": [
      "BANPU \tRMSE: 0.43\t MAE: 0.34 \tMAPE: 1.77 \tDA: 0.51\n",
      "IRPC \tRMSE: 0.12\t MAE: 0.10 \tMAPE: 1.86 \tDA: 0.31\n",
      "PTT \tRMSE: 10.20\t MAE: 7.44 \tMAPE: 1.82 \tDA: 0.50\n",
      "BBL \tRMSE: 2.61\t MAE: 2.07 \tMAPE: 1.22 \tDA: 0.59\n",
      "KBANK \tRMSE: 4.11\t MAE: 2.86 \tMAPE: 1.56 \tDA: 0.48\n",
      "SCB \tRMSE: 1.81\t MAE: 1.37 \tMAPE: 0.90 \tDA: 0.49\n",
      "AOT \tRMSE: 6.45\t MAE: 4.59 \tMAPE: 6.77 \tDA: 0.41\n",
      "THAI \tRMSE: 0.68\t MAE: 0.43 \tMAPE: 2.09 \tDA: 0.67\n",
      "CPF \tRMSE: 0.40\t MAE: 0.30 \tMAPE: 1.16 \tDA: 0.51\n",
      "MINT \tRMSE: 0.64\t MAE: 0.52 \tMAPE: 1.33 \tDA: 0.47\n",
      "TU \tRMSE: 0.40\t MAE: 0.30 \tMAPE: 1.50 \tDA: 0.67\n",
      "SCC \tRMSE: 5.74\t MAE: 4.78 \tMAPE: 0.96 \tDA: 0.48\n",
      "CPN \tRMSE: 7.43\t MAE: 6.28 \tMAPE: 8.97 \tDA: 0.39\n",
      "CK \tRMSE: 0.49\t MAE: 0.41 \tMAPE: 1.41 \tDA: 0.42\n",
      "CPALL \tRMSE: 6.39\t MAE: 5.46 \tMAPE: 8.26 \tDA: 0.33\n",
      "HMPRO \tRMSE: 0.28\t MAE: 0.20 \tMAPE: 1.88 \tDA: 0.66\n",
      "BDMS \tRMSE: 0.35\t MAE: 0.29 \tMAPE: 1.44 \tDA: 0.54\n",
      "BH \tRMSE: 3.82\t MAE: 2.55 \tMAPE: 1.42 \tDA: 0.62\n",
      "ADVANC \tRMSE: 2.12\t MAE: 1.65 \tMAPE: 0.98 \tDA: 0.42\n",
      "JAS \tRMSE: 0.24\t MAE: 0.16 \tMAPE: 2.07 \tDA: 0.56\n",
      "TRUE \tRMSE: 0.14\t MAE: 0.10 \tMAPE: 1.66 \tDA: 0.46\n",
      "\n",
      "mean RMSE: 2.61\n",
      "mean MAE: 2.01\n",
      "mean MAPE: 2.43\n",
      "mean DA: 0.4998\n"
     ]
    }
   ],
   "source": [
    "bagging = ensemble.BaggingRegressor(base_estimator=None,\n",
    "                                    n_estimators=30,n_jobs=-1)\n",
    "bagging.fit(x_train, y_train.values.ravel())\n",
    "evaluator(bagging, x_test, le)"
   ]
  },
  {
   "cell_type": "markdown",
   "metadata": {},
   "source": [
    "# AdaBoost Regressor"
   ]
  },
  {
   "cell_type": "code",
   "execution_count": 13,
   "metadata": {},
   "outputs": [
    {
     "data": {
      "text/plain": [
       "AdaBoostRegressor(base_estimator=DecisionTreeRegressor(criterion='mse', max_depth=None, max_features=None,\n",
       "           max_leaf_nodes=None, min_impurity_decrease=0.0,\n",
       "           min_impurity_split=None, min_samples_leaf=1,\n",
       "           min_samples_split=2, min_weight_fraction_leaf=0.0,\n",
       "           presort=False, random_state=None, splitter='best'),\n",
       "         learning_rate=0.3, loss='linear', n_estimators=50,\n",
       "         random_state=None)"
      ]
     },
     "execution_count": 13,
     "metadata": {},
     "output_type": "execute_result"
    },
    {
     "name": "stdout",
     "output_type": "stream",
     "text": [
      "BANPU \tRMSE: 0.45\t MAE: 0.35 \tMAPE: 1.88 \tDA: 0.51\n",
      "IRPC \tRMSE: 0.12\t MAE: 0.10 \tMAPE: 1.76 \tDA: 0.35\n",
      "PTT \tRMSE: 6.90\t MAE: 5.39 \tMAPE: 1.33 \tDA: 0.50\n",
      "BBL \tRMSE: 2.30\t MAE: 1.84 \tMAPE: 1.08 \tDA: 0.62\n",
      "KBANK \tRMSE: 4.41\t MAE: 3.14 \tMAPE: 1.70 \tDA: 0.45\n",
      "SCB \tRMSE: 1.90\t MAE: 1.45 \tMAPE: 0.96 \tDA: 0.53\n",
      "AOT \tRMSE: 7.66\t MAE: 5.26 \tMAPE: 7.69 \tDA: 0.46\n",
      "THAI \tRMSE: 0.68\t MAE: 0.43 \tMAPE: 2.13 \tDA: 0.67\n",
      "CPF \tRMSE: 0.44\t MAE: 0.33 \tMAPE: 1.27 \tDA: 0.52\n",
      "MINT \tRMSE: 0.65\t MAE: 0.49 \tMAPE: 1.24 \tDA: 0.47\n",
      "TU \tRMSE: 0.39\t MAE: 0.28 \tMAPE: 1.42 \tDA: 0.58\n",
      "SCC \tRMSE: 5.97\t MAE: 5.03 \tMAPE: 1.01 \tDA: 0.45\n",
      "CPN \tRMSE: 7.49\t MAE: 6.33 \tMAPE: 9.11 \tDA: 0.43\n",
      "CK \tRMSE: 0.48\t MAE: 0.39 \tMAPE: 1.35 \tDA: 0.58\n",
      "CPALL \tRMSE: 6.52\t MAE: 5.53 \tMAPE: 8.36 \tDA: 0.33\n",
      "HMPRO \tRMSE: 0.25\t MAE: 0.18 \tMAPE: 1.72 \tDA: 0.68\n",
      "BDMS \tRMSE: 0.32\t MAE: 0.25 \tMAPE: 1.24 \tDA: 0.61\n",
      "BH \tRMSE: 4.10\t MAE: 2.50 \tMAPE: 1.38 \tDA: 0.76\n",
      "ADVANC \tRMSE: 2.13\t MAE: 1.63 \tMAPE: 0.97 \tDA: 0.45\n",
      "JAS \tRMSE: 0.24\t MAE: 0.16 \tMAPE: 2.06 \tDA: 0.50\n",
      "TRUE \tRMSE: 0.14\t MAE: 0.10 \tMAPE: 1.62 \tDA: 0.44\n",
      "\n",
      "mean RMSE: 2.55\n",
      "mean MAE: 1.96\n",
      "mean MAPE: 2.44\n",
      "mean DA: 0.519\n"
     ]
    }
   ],
   "source": [
    "adaboost_dt_regr = ensemble.AdaBoostRegressor(base_estimator=tree.DecisionTreeRegressor(),\n",
    "                                           learning_rate=0.3, \n",
    "                                           n_estimators=50, \n",
    "                                           loss='linear')\n",
    "\n",
    "adaboost_dt_regr.fit(x_train, y_train.values.ravel())\n",
    "\n",
    "evaluator(adaboost_dt_regr, x_test, le)"
   ]
  },
  {
   "cell_type": "code",
   "execution_count": 14,
   "metadata": {},
   "outputs": [
    {
     "data": {
      "text/plain": [
       "AdaBoostRegressor(base_estimator=RandomForestRegressor(bootstrap=True, criterion='mse', max_depth=None,\n",
       "           max_features='auto', max_leaf_nodes=None,\n",
       "           min_impurity_decrease=0.0, min_impurity_split=None,\n",
       "           min_samples_leaf=1, min_samples_split=2,\n",
       "           min_weight_fraction_leaf=0.0, n_estimators=10, n_jobs=-1,\n",
       "           oob_score=False, random_state=None, verbose=0, warm_start=False),\n",
       "         learning_rate=0.5, loss='linear', n_estimators=30,\n",
       "         random_state=None)"
      ]
     },
     "execution_count": 14,
     "metadata": {},
     "output_type": "execute_result"
    },
    {
     "name": "stdout",
     "output_type": "stream",
     "text": [
      "BANPU \tRMSE: 0.45\t MAE: 0.35 \tMAPE: 1.83 \tDA: 0.51\n",
      "IRPC \tRMSE: 0.10\t MAE: 0.07 \tMAPE: 1.34 \tDA: 0.58\n",
      "PTT \tRMSE: 9.19\t MAE: 5.79 \tMAPE: 1.43 \tDA: 0.44\n",
      "BBL \tRMSE: 2.53\t MAE: 1.96 \tMAPE: 1.15 \tDA: 0.54\n",
      "KBANK \tRMSE: 4.07\t MAE: 3.00 \tMAPE: 1.62 \tDA: 0.52\n",
      "SCB \tRMSE: 1.77\t MAE: 1.38 \tMAPE: 0.90 \tDA: 0.51\n",
      "AOT \tRMSE: 6.92\t MAE: 4.93 \tMAPE: 7.27 \tDA: 0.43\n",
      "THAI \tRMSE: 0.66\t MAE: 0.41 \tMAPE: 2.00 \tDA: 0.65\n",
      "CPF \tRMSE: 0.42\t MAE: 0.32 \tMAPE: 1.21 \tDA: 0.50\n",
      "MINT \tRMSE: 0.67\t MAE: 0.56 \tMAPE: 1.44 \tDA: 0.29\n",
      "TU \tRMSE: 0.38\t MAE: 0.28 \tMAPE: 1.43 \tDA: 0.58\n",
      "SCC \tRMSE: 5.59\t MAE: 4.67 \tMAPE: 0.94 \tDA: 0.35\n",
      "CPN \tRMSE: 6.94\t MAE: 5.76 \tMAPE: 8.33 \tDA: 0.39\n",
      "CK \tRMSE: 0.42\t MAE: 0.36 \tMAPE: 1.22 \tDA: 0.48\n",
      "CPALL \tRMSE: 6.37\t MAE: 5.45 \tMAPE: 8.26 \tDA: 0.33\n",
      "HMPRO \tRMSE: 0.25\t MAE: 0.18 \tMAPE: 1.74 \tDA: 0.66\n",
      "BDMS \tRMSE: 0.29\t MAE: 0.23 \tMAPE: 1.15 \tDA: 0.43\n",
      "BH \tRMSE: 3.69\t MAE: 2.29 \tMAPE: 1.27 \tDA: 0.62\n",
      "ADVANC \tRMSE: 1.87\t MAE: 1.42 \tMAPE: 0.84 \tDA: 0.56\n",
      "JAS \tRMSE: 0.24\t MAE: 0.17 \tMAPE: 2.15 \tDA: 0.44\n",
      "TRUE \tRMSE: 0.13\t MAE: 0.10 \tMAPE: 1.53 \tDA: 0.48\n",
      "\n",
      "mean RMSE: 2.52\n",
      "mean MAE: 1.89\n",
      "mean MAPE: 2.34\n",
      "mean DA: 0.491\n"
     ]
    }
   ],
   "source": [
    "adaboost_rf_regr = ensemble.AdaBoostRegressor(base_estimator=ensemble.RandomForestRegressor(n_jobs=-1),\n",
    "                                           learning_rate=0.5, \n",
    "                                           n_estimators=30, \n",
    "                                           loss='linear')\n",
    "adaboost_rf_regr.fit(x_train, y_train.values.ravel())\n",
    "\n",
    "evaluator(adaboost_rf_regr, x_test, le)"
   ]
  },
  {
   "cell_type": "markdown",
   "metadata": {},
   "source": [
    "# Gradient Boosting Regressor"
   ]
  },
  {
   "cell_type": "code",
   "execution_count": 24,
   "metadata": {},
   "outputs": [
    {
     "name": "stderr",
     "output_type": "stream",
     "text": [
      "/usr/local/lib/python3.5/dist-packages/sklearn/utils/validation.py:578: DataConversionWarning:\n",
      "\n",
      "A column-vector y was passed when a 1d array was expected. Please change the shape of y to (n_samples, ), for example using ravel().\n",
      "\n"
     ]
    },
    {
     "data": {
      "text/plain": [
       "GradientBoostingRegressor(alpha=0.9, criterion='friedman_mse', init=None,\n",
       "             learning_rate=0.1, loss='ls', max_depth=4, max_features=None,\n",
       "             max_leaf_nodes=None, min_impurity_decrease=0.0,\n",
       "             min_impurity_split=None, min_samples_leaf=1,\n",
       "             min_samples_split=2, min_weight_fraction_leaf=0.0,\n",
       "             n_estimators=500, presort='auto', random_state=None,\n",
       "             subsample=1.0, verbose=0, warm_start=False)"
      ]
     },
     "execution_count": 24,
     "metadata": {},
     "output_type": "execute_result"
    },
    {
     "name": "stdout",
     "output_type": "stream",
     "text": [
      "BANPU \tRMSE: 0.94\t MAE: 0.67 \tMAPE: 3.58 \tDA: 0.40\n",
      "IRPC \tRMSE: 0.47\t MAE: 0.32 \tMAPE: 5.82 \tDA: 0.46\n",
      "PTT \tRMSE: 27.18\t MAE: 9.43 \tMAPE: 2.31 \tDA: 0.47\n",
      "BBL \tRMSE: 2.57\t MAE: 2.04 \tMAPE: 1.20 \tDA: 0.51\n",
      "KBANK \tRMSE: 3.97\t MAE: 3.03 \tMAPE: 1.63 \tDA: 0.59\n",
      "SCB \tRMSE: 1.74\t MAE: 1.36 \tMAPE: 0.90 \tDA: 0.47\n",
      "AOT \tRMSE: 5.94\t MAE: 4.18 \tMAPE: 6.16 \tDA: 0.54\n",
      "THAI \tRMSE: 1.22\t MAE: 0.88 \tMAPE: 4.20 \tDA: 0.51\n",
      "CPF \tRMSE: 1.41\t MAE: 0.71 \tMAPE: 2.76 \tDA: 0.47\n",
      "MINT \tRMSE: 1.05\t MAE: 0.86 \tMAPE: 2.31 \tDA: 0.35\n",
      "TU \tRMSE: 0.60\t MAE: 0.45 \tMAPE: 2.27 \tDA: 0.75\n",
      "SCC \tRMSE: 10.57\t MAE: 6.00 \tMAPE: 1.21 \tDA: 0.45\n",
      "CPN \tRMSE: 5.57\t MAE: 4.42 \tMAPE: 6.41 \tDA: 0.39\n",
      "CK \tRMSE: 0.79\t MAE: 0.64 \tMAPE: 2.19 \tDA: 0.42\n",
      "CPALL \tRMSE: 4.81\t MAE: 3.23 \tMAPE: 4.75 \tDA: 0.48\n",
      "HMPRO \tRMSE: 1.23\t MAE: 0.79 \tMAPE: 8.57 \tDA: 0.62\n",
      "BDMS \tRMSE: 0.57\t MAE: 0.44 \tMAPE: 2.16 \tDA: 0.43\n",
      "BH \tRMSE: 3.62\t MAE: 2.46 \tMAPE: 1.35 \tDA: 0.71\n",
      "ADVANC \tRMSE: 2.03\t MAE: 1.59 \tMAPE: 0.94 \tDA: 0.50\n",
      "JAS \tRMSE: 0.49\t MAE: 0.35 \tMAPE: 4.66 \tDA: 0.49\n",
      "TRUE \tRMSE: 0.63\t MAE: 0.36 \tMAPE: 5.70 \tDA: 0.38\n",
      "\n",
      "mean RMSE: 3.69\n",
      "mean MAE: 2.11\n",
      "mean MAPE: 3.38\n",
      "mean DA: 0.4947\n"
     ]
    },
    {
     "name": "stderr",
     "output_type": "stream",
     "text": [
      "/usr/local/lib/python3.5/dist-packages/numpy/core/fromnumeric.py:52: FutureWarning:\n",
      "\n",
      "reshape is deprecated and will raise in a subsequent release. Please use .values.reshape(...) instead\n",
      "\n"
     ]
    }
   ],
   "source": [
    "gbr = ensemble.GradientBoostingRegressor(n_estimators=500, \n",
    "                                         learning_rate=0.1,\n",
    "                                         max_depth=4,\n",
    "                                         min_samples_split=2,\n",
    "                                         loss='ls',\n",
    "                                        )\n",
    "gbr.fit(x_train, y_train)\n",
    "\n",
    "evaluator(gbr, x_test, le)"
   ]
  },
  {
   "cell_type": "markdown",
   "metadata": {},
   "source": [
    "# XGBoost Regressor"
   ]
  },
  {
   "cell_type": "code",
   "execution_count": 15,
   "metadata": {},
   "outputs": [
    {
     "data": {
      "text/plain": [
       "(4020, 710)"
      ]
     },
     "execution_count": 15,
     "metadata": {},
     "output_type": "execute_result"
    }
   ],
   "source": [
    "import xgboost\n",
    "from sklearn.model_selection import train_test_split\n",
    "\n",
    "d_train, d_valid, y_d_train, y_d_valid = train_test_split(x_train, y_train, test_size=0.1, random_state=10)\n",
    "len(d_train), len(d_valid)\n",
    "\n",
    "d_train = xgboost.DMatrix(d_train, label=y_d_train)\n",
    "d_valid = xgboost.DMatrix(d_valid, label=y_d_valid)"
   ]
  },
  {
   "cell_type": "code",
   "execution_count": 16,
   "metadata": {},
   "outputs": [
    {
     "name": "stdout",
     "output_type": "stream",
     "text": [
      "[0]\ttrain-mae:114.16\tvalid-mae:113.395\n",
      "Multiple eval metrics have been passed: 'valid-mae' will be used for early stopping.\n",
      "\n",
      "Will train until valid-mae hasn't improved in 50 rounds.\n",
      "[100]\ttrain-mae:1.2573\tvalid-mae:1.94089\n",
      "Stopping. Best iteration:\n",
      "[95]\ttrain-mae:1.27692\tvalid-mae:1.93602\n",
      "\n"
     ]
    }
   ],
   "source": [
    "params = {\n",
    "    'booster':'dart',\n",
    "    'max_depth': 4,\n",
    "    'learning_rate': 0.1,\n",
    "    'n_estimators':300,\n",
    "    'subsample': 0.9,\n",
    "    'objective': 'reg:tweedie',\n",
    "    'eval_metric': 'mae',\n",
    "    'reg_lambda': 0.8,\n",
    "    'reg_alpha': 0.2,\n",
    "    'silent': 1,\n",
    "}\n",
    "\n",
    "xgb = xgboost.train(params, d_train, \n",
    "                    num_boost_round=5000, \n",
    "                    evals=[(d_train, 'train'), (d_valid, 'valid')], \n",
    "                    early_stopping_rounds=50,\n",
    "                    verbose_eval=100\n",
    "                   )"
   ]
  },
  {
   "cell_type": "code",
   "execution_count": 17,
   "metadata": {},
   "outputs": [
    {
     "name": "stdout",
     "output_type": "stream",
     "text": [
      "BANPU \tRMSE: 0.42\t MAE: 0.33 \tMAPE: 1.74 \tDA: 0.56\n",
      "IRPC \tRMSE: 0.12\t MAE: 0.10 \tMAPE: 1.92 \tDA: 0.46\n",
      "PTT \tRMSE: 9.81\t MAE: 6.35 \tMAPE: 1.55 \tDA: 0.52\n",
      "BBL \tRMSE: 2.62\t MAE: 2.21 \tMAPE: 1.28 \tDA: 0.32\n",
      "KBANK \tRMSE: 4.09\t MAE: 3.06 \tMAPE: 1.66 \tDA: 0.55\n",
      "SCB \tRMSE: 1.76\t MAE: 1.35 \tMAPE: 0.89 \tDA: 0.50\n",
      "AOT \tRMSE: 5.95\t MAE: 4.05 \tMAPE: 5.94 \tDA: 0.46\n",
      "THAI \tRMSE: 0.66\t MAE: 0.43 \tMAPE: 2.12 \tDA: 0.58\n",
      "CPF \tRMSE: 0.45\t MAE: 0.34 \tMAPE: 1.30 \tDA: 0.47\n",
      "MINT \tRMSE: 0.66\t MAE: 0.54 \tMAPE: 1.37 \tDA: 0.29\n",
      "TU \tRMSE: 0.33\t MAE: 0.27 \tMAPE: 1.37 \tDA: 0.50\n",
      "SCC \tRMSE: 5.38\t MAE: 4.48 \tMAPE: 0.90 \tDA: 0.35\n",
      "CPN \tRMSE: 5.73\t MAE: 4.64 \tMAPE: 6.74 \tDA: 0.36\n",
      "CK \tRMSE: 0.47\t MAE: 0.38 \tMAPE: 1.32 \tDA: 0.52\n",
      "CPALL \tRMSE: 4.55\t MAE: 3.14 \tMAPE: 4.64 \tDA: 0.42\n",
      "HMPRO \tRMSE: 0.28\t MAE: 0.19 \tMAPE: 1.84 \tDA: 0.53\n",
      "BDMS \tRMSE: 0.31\t MAE: 0.25 \tMAPE: 1.24 \tDA: 0.46\n",
      "BH \tRMSE: 4.61\t MAE: 2.85 \tMAPE: 1.57 \tDA: 0.67\n",
      "ADVANC \tRMSE: 2.45\t MAE: 1.80 \tMAPE: 1.06 \tDA: 0.46\n",
      "JAS \tRMSE: 0.25\t MAE: 0.17 \tMAPE: 2.17 \tDA: 0.45\n",
      "TRUE \tRMSE: 0.13\t MAE: 0.11 \tMAPE: 1.71 \tDA: 0.49\n",
      "\n",
      "mean RMSE: 2.43\n",
      "mean MAE: 1.76\n",
      "mean MAPE: 2.11\n",
      "mean DA: 0.4725\n"
     ]
    }
   ],
   "source": [
    "evaluator(xgb, x_test, le, isXGB=True)"
   ]
  },
  {
   "cell_type": "markdown",
   "metadata": {},
   "source": [
    "# Save Models"
   ]
  },
  {
   "cell_type": "code",
   "execution_count": 18,
   "metadata": {},
   "outputs": [],
   "source": [
    "import pickle\n",
    "pickle.dump(decis_tree_regr, open('models/decis_tree_regr_pantip_all.pkl', 'wb'))\n",
    "pickle.dump(rnd_forest_regr, open('models/rnd_forest_regr_pantip_all.pkl', 'wb'))\n",
    "pickle.dump(bagging, open('models/bagging_regr_pantip_all.pkl', 'wb'))\n",
    "pickle.dump(adaboost_dt_regr, open('models/adaboost_dt_regr_pantip_all.pkl', 'wb'))\n",
    "pickle.dump(adaboost_rf_regr, open('models/adaboost_rf_regr_pantip_all.pkl', 'wb'))\n",
    "pickle.dump(xgb, open('models/xgb_pantip_all.pkl', 'wb'))"
   ]
  },
  {
   "cell_type": "code",
   "execution_count": 19,
   "metadata": {},
   "outputs": [],
   "source": [
    "dt = pickle.load(open('models/decis_tree_regr_pantip_all.pkl', 'rb'))\n",
    "rf = pickle.load(open('models/rnd_forest_regr_pantip_all.pkl', 'rb'))\n",
    "bagging = pickle.load(open('models/bagging_regr_pantip_all.pkl', 'rb'))\n",
    "ada_dt = pickle.load(open('models/adaboost_dt_regr_pantip_all.pkl', 'rb'))\n",
    "ada_rf = pickle.load(open('models/adaboost_rf_regr_pantip_all.pkl', 'rb'))\n",
    "xgb = pickle.load(open('models/xgb_pantip_all.pkl', 'rb'))"
   ]
  },
  {
   "cell_type": "code",
   "execution_count": 24,
   "metadata": {},
   "outputs": [],
   "source": [
    "x_train_stack = np.concatenate((\n",
    "                         bagging.predict(x_train).reshape(-1,1),\n",
    "                         ada_dt.predict(x_train).reshape(-1,1),\n",
    "                         ada_rf.predict(x_train).reshape(-1,1),\n",
    "                         xgb.predict(xgboost.DMatrix(x_train)).reshape(-1,1)), axis=1)"
   ]
  },
  {
   "cell_type": "code",
   "execution_count": 25,
   "metadata": {},
   "outputs": [],
   "source": [
    "y_test = x_test[Horizon].values.reshape(-1,1)\n",
    "\n",
    "x_test_stack = np.concatenate((\n",
    "                         bagging.predict(x_test.drop(['Close(t+1)'], axis=1)).reshape(-1,1),\n",
    "                         ada_dt.predict(x_test.drop(['Close(t+1)'], axis=1)).reshape(-1,1),\n",
    "                         ada_rf.predict(x_test.drop(['Close(t+1)'], axis=1)).reshape(-1,1),\n",
    "                         xgb.predict(xgboost.DMatrix((x_test.drop(['Close(t+1)'], axis=1)))).reshape(-1,1)), axis=1)"
   ]
  },
  {
   "cell_type": "code",
   "execution_count": 44,
   "metadata": {},
   "outputs": [
    {
     "data": {
      "text/plain": [
       "RandomForestRegressor(bootstrap=True, criterion='mse', max_depth=None,\n",
       "           max_features='auto', max_leaf_nodes=None,\n",
       "           min_impurity_decrease=0.0, min_impurity_split=None,\n",
       "           min_samples_leaf=1, min_samples_split=2,\n",
       "           min_weight_fraction_leaf=0.0, n_estimators=10, n_jobs=-1,\n",
       "           oob_score=False, random_state=None, verbose=0, warm_start=False)"
      ]
     },
     "execution_count": 44,
     "metadata": {},
     "output_type": "execute_result"
    },
    {
     "name": "stdout",
     "output_type": "stream",
     "text": [
      "RMSE: 4.14 \tMAE: 2.04 \tMAPE: 2.24\n",
      "RMSE: 3.69 \tMAE: 1.93 \tMAPE: 2.26\n",
      "RMSE: 3.93 \tMAE: 1.88 \tMAPE: 2.18\n",
      "RMSE: 5.49 \tMAE: 2.72 \tMAPE: 2.37\n",
      "\n",
      "RMSE: 3.58 \tMAE: 1.89 \tMAPE: 2.14\n"
     ]
    }
   ],
   "source": [
    "stack = ensemble.RandomForestRegressor(n_jobs=-1)\n",
    "stack.fit(x_train_stack, y_train.values.ravel())\n",
    "\n",
    "y_pred_stack = stack.predict(x_test_stack).reshape(-1,1)\n",
    "\n",
    "for i in range(x_test_stack.shape[1]):\n",
    "    RMSE = np.sqrt(mean_squared_error(y_test, x_test_stack[:,i]))\n",
    "    MAE = mean_absolute_error(y_test, x_test_stack[:,i])\n",
    "    MAPE = mean_absolute_percentage_error(y_test, x_test_stack[:,i].reshape(-1,1))\n",
    "    print(\"RMSE: %.2f \\tMAE: %.2f \\tMAPE: %.2f\" % (RMSE, MAE, MAPE))\n",
    "    \n",
    "RMSE = np.sqrt(mean_squared_error(y_test, y_pred_stack))\n",
    "MAE = mean_absolute_error(y_test, y_pred_stack)\n",
    "MAPE = mean_absolute_percentage_error(y_test, y_pred_stack)\n",
    "print(\"\\nRMSE: %.2f \\tMAE: %.2f \\tMAPE: %.2f\" % (RMSE, MAE, MAPE))"
   ]
  },
  {
   "cell_type": "code",
   "execution_count": 45,
   "metadata": {},
   "outputs": [
    {
     "data": {
      "text/plain": [
       "array([0.00353503, 0.50136105, 0.27341371, 0.2216902 ])"
      ]
     },
     "execution_count": 45,
     "metadata": {},
     "output_type": "execute_result"
    }
   ],
   "source": [
    "feature_importances = stack.feature_importances_\n",
    "feature_importances"
   ]
  },
  {
   "cell_type": "markdown",
   "metadata": {},
   "source": [
    "# Stacking DA"
   ]
  },
  {
   "cell_type": "code",
   "execution_count": 46,
   "metadata": {},
   "outputs": [],
   "source": [
    "close_t = np.reshape(x_train['Close(t)'].values, (-1, 1))\n",
    "changes = y_train.values.reshape(-1,1) - close_t\n",
    "y_train_da = np.array([1 if change >= 0 else 0 for change in changes]).reshape(-1,1)\n",
    "\n",
    "x_changes = np.concatenate((\n",
    "                            np.array(x_train_stack[:,0]).reshape(-1,1)-close_t,\n",
    "                            np.array(x_train_stack[:,1]).reshape(-1,1)-close_t,\n",
    "                            np.array(x_train_stack[:,2]).reshape(-1,1)-close_t,\n",
    "                            np.array(x_train_stack[:,3]).reshape(-1,1)-close_t,\n",
    "                           ), axis=1)\n",
    "x_train_stack_da = []\n",
    "for row in x_changes:\n",
    "    tmp_row = []\n",
    "    for change in row:\n",
    "        tmp_row.append(1 if change>=0 else 0)\n",
    "    x_train_stack_da.append(tmp_row)"
   ]
  },
  {
   "cell_type": "code",
   "execution_count": 47,
   "metadata": {},
   "outputs": [],
   "source": [
    "close_t = np.reshape(x_test['Close(t)'].values, (-1, 1))\n",
    "changes = y_test - close_t\n",
    "y_test_da = np.array([1 if change >= 0 else 0 for change in changes]).reshape(-1,1)\n",
    "\n",
    "x_changes = np.concatenate((\n",
    "                            np.array(x_test_stack[:,0]).reshape(-1,1)-close_t,\n",
    "                            np.array(x_test_stack[:,1]).reshape(-1,1)-close_t,\n",
    "                            np.array(x_test_stack[:,2]).reshape(-1,1)-close_t,\n",
    "                            np.array(x_test_stack[:,3]).reshape(-1,1)-close_t,\n",
    "                           ), axis=1)\n",
    "x_test_stack_da = []\n",
    "for row in x_changes:\n",
    "    tmp_row = []\n",
    "    for change in row:\n",
    "        tmp_row.append(1 if change>=0 else 0)\n",
    "    x_test_stack_da.append(tmp_row)\n",
    "\n",
    "x_test_stack_da = np.array(x_test_stack_da)"
   ]
  },
  {
   "cell_type": "code",
   "execution_count": 48,
   "metadata": {},
   "outputs": [
    {
     "data": {
      "text/plain": [
       "GradientBoostingRegressor(alpha=0.9, criterion='friedman_mse', init=None,\n",
       "             learning_rate=0.1, loss='ls', max_depth=3, max_features=None,\n",
       "             max_leaf_nodes=None, min_impurity_decrease=0.0,\n",
       "             min_impurity_split=None, min_samples_leaf=1,\n",
       "             min_samples_split=2, min_weight_fraction_leaf=0.0,\n",
       "             n_estimators=100, presort='auto', random_state=None,\n",
       "             subsample=1.0, verbose=0, warm_start=False)"
      ]
     },
     "execution_count": 48,
     "metadata": {},
     "output_type": "execute_result"
    },
    {
     "name": "stdout",
     "output_type": "stream",
     "text": [
      "Accuracy: 0.4941\n",
      "Accuracy: 0.5092\n",
      "Accuracy: 0.4908\n",
      "Accuracy: 0.4539\n",
      "\n",
      "Accuracy: 0.5092\n"
     ]
    }
   ],
   "source": [
    "stack_da = ensemble.GradientBoostingRegressor()\n",
    "stack_da.fit(x_train_stack_da, y_train_da.ravel())\n",
    "\n",
    "y_stack_da = stack_da.predict(x_test_stack_da).reshape(-1,1).round(0).astype(int)\n",
    "\n",
    "for i in range(x_test_stack_da.shape[1]):\n",
    "    acc = accuracy_score(y_test_da, x_test_stack_da[:,i])\n",
    "    print(\"Accuracy: %.4f\" % (acc))\n",
    "    \n",
    "acc = accuracy_score(y_test_da, y_stack_da)\n",
    "print(\"\\nAccuracy: %.4f\" % (acc))"
   ]
  },
  {
   "cell_type": "code",
   "execution_count": 49,
   "metadata": {},
   "outputs": [
    {
     "data": {
      "text/plain": [
       "array([0.08275431, 0.78415671, 0.03098645, 0.10210254])"
      ]
     },
     "execution_count": 49,
     "metadata": {},
     "output_type": "execute_result"
    }
   ],
   "source": [
    "feature_importances_da = stack_da.feature_importances_\n",
    "feature_importances_da"
   ]
  },
  {
   "cell_type": "code",
   "execution_count": null,
   "metadata": {},
   "outputs": [],
   "source": []
  }
 ],
 "metadata": {
  "kernelspec": {
   "display_name": "Python 3",
   "language": "python",
   "name": "python3"
  },
  "language_info": {
   "codemirror_mode": {
    "name": "ipython",
    "version": 3
   },
   "file_extension": ".py",
   "mimetype": "text/x-python",
   "name": "python",
   "nbconvert_exporter": "python",
   "pygments_lexer": "ipython3",
   "version": "3.5.2"
  }
 },
 "nbformat": 4,
 "nbformat_minor": 2
}
