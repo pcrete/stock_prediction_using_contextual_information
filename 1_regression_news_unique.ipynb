{
 "cells": [
  {
   "cell_type": "markdown",
   "metadata": {},
   "source": [
    "# Regression with news (only one stock included)"
   ]
  },
  {
   "cell_type": "code",
   "execution_count": 1,
   "metadata": {},
   "outputs": [
    {
     "data": {
      "text/html": [
       "<style>.container { width:100% !important; }</style>"
      ],
      "text/plain": [
       "<IPython.core.display.HTML object>"
      ]
     },
     "metadata": {},
     "output_type": "display_data"
    },
    {
     "data": {
      "text/plain": [
       "'3.5.2 (default, Nov 23 2017, 16:37:01) \\n[GCC 5.4.0 20160609]'"
      ]
     },
     "execution_count": 1,
     "metadata": {},
     "output_type": "execute_result"
    }
   ],
   "source": [
    "from IPython.core.display import display, HTML\n",
    "display(HTML(\"<style>.container { width:100% !important; }</style>\"))\n",
    "\n",
    "from IPython.core.interactiveshell import InteractiveShell\n",
    "InteractiveShell.ast_node_interactivity = \"all\"\n",
    "\n",
    "import sys\n",
    "sys.version"
   ]
  },
  {
   "cell_type": "code",
   "execution_count": 2,
   "metadata": {},
   "outputs": [
    {
     "data": {
      "text/html": [
       "<script>requirejs.config({paths: { 'plotly': ['https://cdn.plot.ly/plotly-latest.min']},});if(!window.Plotly) {{require(['plotly'],function(plotly) {window.Plotly=plotly;});}}</script>"
      ],
      "text/vnd.plotly.v1+html": [
       "<script>requirejs.config({paths: { 'plotly': ['https://cdn.plot.ly/plotly-latest.min']},});if(!window.Plotly) {{require(['plotly'],function(plotly) {window.Plotly=plotly;});}}</script>"
      ]
     },
     "metadata": {},
     "output_type": "display_data"
    },
    {
     "data": {
      "text/html": [
       "<div>\n",
       "<style scoped>\n",
       "    .dataframe tbody tr th:only-of-type {\n",
       "        vertical-align: middle;\n",
       "    }\n",
       "\n",
       "    .dataframe tbody tr th {\n",
       "        vertical-align: top;\n",
       "    }\n",
       "\n",
       "    .dataframe thead th {\n",
       "        text-align: right;\n",
       "    }\n",
       "</style>\n",
       "<table border=\"1\" class=\"dataframe\">\n",
       "  <thead>\n",
       "    <tr style=\"text-align: right;\">\n",
       "      <th></th>\n",
       "      <th>Ticker</th>\n",
       "      <th>Open</th>\n",
       "      <th>High</th>\n",
       "      <th>Low</th>\n",
       "      <th>Close</th>\n",
       "      <th>Volume</th>\n",
       "    </tr>\n",
       "    <tr>\n",
       "      <th>Date</th>\n",
       "      <th></th>\n",
       "      <th></th>\n",
       "      <th></th>\n",
       "      <th></th>\n",
       "      <th></th>\n",
       "      <th></th>\n",
       "    </tr>\n",
       "  </thead>\n",
       "  <tbody>\n",
       "    <tr>\n",
       "      <th>2018-02-16</th>\n",
       "      <td>THAI</td>\n",
       "      <td>15.6</td>\n",
       "      <td>15.9</td>\n",
       "      <td>15.6</td>\n",
       "      <td>15.6</td>\n",
       "      <td>2907700</td>\n",
       "    </tr>\n",
       "    <tr>\n",
       "      <th>2018-02-16</th>\n",
       "      <td>TRUE</td>\n",
       "      <td>6.4</td>\n",
       "      <td>6.4</td>\n",
       "      <td>6.3</td>\n",
       "      <td>6.3</td>\n",
       "      <td>35851300</td>\n",
       "    </tr>\n",
       "    <tr>\n",
       "      <th>2018-02-16</th>\n",
       "      <td>TU</td>\n",
       "      <td>20.0</td>\n",
       "      <td>20.5</td>\n",
       "      <td>20.0</td>\n",
       "      <td>20.1</td>\n",
       "      <td>7299300</td>\n",
       "    </tr>\n",
       "  </tbody>\n",
       "</table>\n",
       "</div>"
      ],
      "text/plain": [
       "           Ticker  Open  High   Low  Close    Volume\n",
       "Date                                                \n",
       "2018-02-16   THAI  15.6  15.9  15.6   15.6   2907700\n",
       "2018-02-16   TRUE   6.4   6.4   6.3    6.3  35851300\n",
       "2018-02-16     TU  20.0  20.5  20.0   20.1   7299300"
      ]
     },
     "execution_count": 2,
     "metadata": {},
     "output_type": "execute_result"
    },
    {
     "data": {
      "text/plain": [
       "26331"
      ]
     },
     "execution_count": 2,
     "metadata": {},
     "output_type": "execute_result"
    },
    {
     "data": {
      "text/html": [
       "<div>\n",
       "<style scoped>\n",
       "    .dataframe tbody tr th:only-of-type {\n",
       "        vertical-align: middle;\n",
       "    }\n",
       "\n",
       "    .dataframe tbody tr th {\n",
       "        vertical-align: top;\n",
       "    }\n",
       "\n",
       "    .dataframe thead th {\n",
       "        text-align: right;\n",
       "    }\n",
       "</style>\n",
       "<table border=\"1\" class=\"dataframe\">\n",
       "  <thead>\n",
       "    <tr style=\"text-align: right;\">\n",
       "      <th></th>\n",
       "      <th>Ticker</th>\n",
       "      <th>Text</th>\n",
       "    </tr>\n",
       "  </thead>\n",
       "  <tbody>\n",
       "    <tr>\n",
       "      <th>2018-02-01</th>\n",
       "      <td>KBANK</td>\n",
       "      <td>สำนักงาน คณะกรรมการ กำกับ หลักทรัพย์ และ ตลาดห...</td>\n",
       "    </tr>\n",
       "    <tr>\n",
       "      <th>2018-02-05</th>\n",
       "      <td>CPF</td>\n",
       "      <td>บริษัท เจริญ โภคภัณฑ์ อาหาร จำกัด มหาชน หรือ จ...</td>\n",
       "    </tr>\n",
       "    <tr>\n",
       "      <th>2018-02-06</th>\n",
       "      <td>KBANK</td>\n",
       "      <td>นาย ศีล วัต สัน ติวิสัฎฐ์ นั่ง ขวา รอง กรรมการ...</td>\n",
       "    </tr>\n",
       "  </tbody>\n",
       "</table>\n",
       "</div>"
      ],
      "text/plain": [
       "           Ticker                                               Text\n",
       "2018-02-01  KBANK  สำนักงาน คณะกรรมการ กำกับ หลักทรัพย์ และ ตลาดห...\n",
       "2018-02-05    CPF  บริษัท เจริญ โภคภัณฑ์ อาหาร จำกัด มหาชน หรือ จ...\n",
       "2018-02-06  KBANK  นาย ศีล วัต สัน ติวิสัฎฐ์ นั่ง ขวา รอง กรรมการ..."
      ]
     },
     "execution_count": 2,
     "metadata": {},
     "output_type": "execute_result"
    },
    {
     "data": {
      "text/plain": [
       "2162"
      ]
     },
     "execution_count": 2,
     "metadata": {},
     "output_type": "execute_result"
    },
    {
     "data": {
      "text/html": [
       "<div>\n",
       "<style scoped>\n",
       "    .dataframe tbody tr th:only-of-type {\n",
       "        vertical-align: middle;\n",
       "    }\n",
       "\n",
       "    .dataframe tbody tr th {\n",
       "        vertical-align: top;\n",
       "    }\n",
       "\n",
       "    .dataframe thead th {\n",
       "        text-align: right;\n",
       "    }\n",
       "</style>\n",
       "<table border=\"1\" class=\"dataframe\">\n",
       "  <thead>\n",
       "    <tr style=\"text-align: right;\">\n",
       "      <th></th>\n",
       "      <th>Ticker</th>\n",
       "      <th>Text</th>\n",
       "    </tr>\n",
       "  </thead>\n",
       "  <tbody>\n",
       "    <tr>\n",
       "      <th>2018-01-24</th>\n",
       "      <td>SCC</td>\n",
       "      <td>แจ้ง กำไร ออกมา ดีกว่า คาด ไตรมาส จำนวน หมื่น ...</td>\n",
       "    </tr>\n",
       "    <tr>\n",
       "      <th>2018-02-01</th>\n",
       "      <td>PTT</td>\n",
       "      <td>ปตท ตอบรับ นโยบาย สังคม ไร้ เงินสด ตอบสนอง ไลฟ...</td>\n",
       "    </tr>\n",
       "    <tr>\n",
       "      <th>2018-02-08</th>\n",
       "      <td>PTT</td>\n",
       "      <td>ตลาดหุ้น ไทย เปิด บวก แรง ซื้อ หุ้น นำ ตลาด ผส...</td>\n",
       "    </tr>\n",
       "  </tbody>\n",
       "</table>\n",
       "</div>"
      ],
      "text/plain": [
       "           Ticker                                               Text\n",
       "2018-01-24    SCC  แจ้ง กำไร ออกมา ดีกว่า คาด ไตรมาส จำนวน หมื่น ...\n",
       "2018-02-01    PTT  ปตท ตอบรับ นโยบาย สังคม ไร้ เงินสด ตอบสนอง ไลฟ...\n",
       "2018-02-08    PTT  ตลาดหุ้น ไทย เปิด บวก แรง ซื้อ หุ้น นำ ตลาด ผส..."
      ]
     },
     "execution_count": 2,
     "metadata": {},
     "output_type": "execute_result"
    },
    {
     "data": {
      "text/plain": [
       "693"
      ]
     },
     "execution_count": 2,
     "metadata": {},
     "output_type": "execute_result"
    },
    {
     "data": {
      "text/plain": [
       "('Total:', 2855)"
      ]
     },
     "execution_count": 2,
     "metadata": {},
     "output_type": "execute_result"
    }
   ],
   "source": [
    "import pickle\n",
    "import pandas as pd\n",
    "import os\n",
    "import copy\n",
    "import numpy as np\n",
    "\n",
    "from pythainlp.corpus import stopwords\n",
    "from sklearn.feature_extraction.text import TfidfVectorizer\n",
    "from sklearn.metrics import mean_squared_error, mean_absolute_error, accuracy_score\n",
    "from sklearn import preprocessing\n",
    "from sklearn import linear_model, tree, ensemble\n",
    "from sklearn import svm\n",
    "\n",
    "from plotly.offline import download_plotlyjs, init_notebook_mode, plot, iplot\n",
    "init_notebook_mode(connected=True)\n",
    "\n",
    "import plotly.graph_objs as go\n",
    "from datetime import datetime, timedelta\n",
    "from tqdm import tqdm_notebook\n",
    "import matplotlib.pyplot as plt\n",
    "% matplotlib inline\n",
    "\n",
    "target_stocks = ['BANPU','IRPC','PTT','BBL','KBANK','SCB','AOT','THAI','CPF','MINT',\n",
    "                 'TU','SCC','CPN','CK','CPALL','HMPRO','BDMS','BH','ADVANC','JAS','TRUE']\n",
    "\n",
    "df_price = pd.read_csv('merged_2013_2018.csv')\n",
    "df_price['Date'] = pd.to_datetime(df_price['Date'], format='%Y-%m-%d')\n",
    "df_price = df_price.loc[df_price['Ticker'].isin(target_stocks)]\n",
    "df_price['Date'] = df_price['Date'].dt.date\n",
    "df_price = df_price.set_index('Date')\n",
    "df_price.tail(3)\n",
    "len(df_price)\n",
    "\n",
    "df_kaohoon = pd.read_csv('data/kaohoon.csv')\n",
    "df_kaohoon['Date'] = pd.to_datetime(df_kaohoon['Date'], format='%Y-%m-%d')\n",
    "df_kaohoon = df_kaohoon.set_index('Date')\n",
    "df_kaohoon = df_kaohoon[:'2018-2-8']\n",
    "df_kaohoon.index = df_kaohoon.index.date\n",
    "df_kaohoon.tail(3)\n",
    "len(df_kaohoon)\n",
    "\n",
    "df_moneych = pd.read_csv('data/moneychanel.csv')\n",
    "df_moneych['Date'] = pd.to_datetime(df_moneych['Date'], format='%Y-%m-%d')\n",
    "df_moneych = df_moneych.set_index('Date')\n",
    "df_moneych = df_moneych[:'2018-2-8']\n",
    "df_moneych.index = df_moneych.index.date\n",
    "df_moneych.tail(3)\n",
    "len(df_moneych)\n",
    "\n",
    "df_news = pd.concat([df_moneych, df_kaohoon])\n",
    "'Total:', len(df_news.index)"
   ]
  },
  {
   "cell_type": "markdown",
   "metadata": {},
   "source": [
    "# Lag & Horizon Construction"
   ]
  },
  {
   "cell_type": "code",
   "execution_count": 3,
   "metadata": {
    "scrolled": false
   },
   "outputs": [
    {
     "data": {
      "application/vnd.jupyter.widget-view+json": {
       "model_id": "d1047ac86c144e0eb30edcc1611701dd",
       "version_major": 2,
       "version_minor": 0
      },
      "text/html": [
       "<p>Failed to display Jupyter Widget of type <code>HBox</code>.</p>\n",
       "<p>\n",
       "  If you're reading this message in the Jupyter Notebook or JupyterLab Notebook, it may mean\n",
       "  that the widgets JavaScript is still loading. If this message persists, it\n",
       "  likely means that the widgets JavaScript library is either not installed or\n",
       "  not enabled. See the <a href=\"https://ipywidgets.readthedocs.io/en/stable/user_install.html\">Jupyter\n",
       "  Widgets Documentation</a> for setup instructions.\n",
       "</p>\n",
       "<p>\n",
       "  If you're reading this message in another frontend (for example, a static\n",
       "  rendering on GitHub or <a href=\"https://nbviewer.jupyter.org/\">NBViewer</a>),\n",
       "  it may mean that your frontend doesn't currently support widgets.\n",
       "</p>\n"
      ],
      "text/plain": [
       "HBox(children=(IntProgress(value=0, max=21), HTML(value='')))"
      ]
     },
     "metadata": {},
     "output_type": "display_data"
    },
    {
     "name": "stdout",
     "output_type": "stream",
     "text": [
      "BANPU :\t 84 21\n",
      "IRPC :\t 72 19\n",
      "PTT :\t 209 53\n",
      "BBL :\t 101 26\n",
      "KBANK :\t 126 32\n",
      "SCB :\t 119 30\n",
      "AOT :\t 137 35\n",
      "THAI :\t 123 31\n",
      "CPF :\t 144 36\n",
      "MINT :\t 72 19\n",
      "TU :\t 52 14\n",
      "SCC :\t 88 23\n",
      "CPN :\t 67 17\n",
      "CK :\t 63 16\n",
      "CPALL :\t 44 11\n",
      "HMPRO :\t 50 13\n",
      "BDMS :\t 67 17\n",
      "BH :\t 48 13\n",
      "ADVANC :\t 114 29\n",
      "JAS :\t 101 26\n",
      "TRUE :\t 86 22\n",
      "\n"
     ]
    },
    {
     "data": {
      "text/plain": [
       "(1967, 503)"
      ]
     },
     "execution_count": 3,
     "metadata": {},
     "output_type": "execute_result"
    },
    {
     "data": {
      "text/html": [
       "<div>\n",
       "<style scoped>\n",
       "    .dataframe tbody tr th:only-of-type {\n",
       "        vertical-align: middle;\n",
       "    }\n",
       "\n",
       "    .dataframe tbody tr th {\n",
       "        vertical-align: top;\n",
       "    }\n",
       "\n",
       "    .dataframe thead th {\n",
       "        text-align: right;\n",
       "    }\n",
       "</style>\n",
       "<table border=\"1\" class=\"dataframe\">\n",
       "  <thead>\n",
       "    <tr style=\"text-align: right;\">\n",
       "      <th></th>\n",
       "      <th>Ticker</th>\n",
       "      <th>Text</th>\n",
       "      <th>Close(t+1)</th>\n",
       "      <th>Open(t)</th>\n",
       "      <th>High(t)</th>\n",
       "      <th>Low(t)</th>\n",
       "      <th>Close(t)</th>\n",
       "      <th>Open(t-1)</th>\n",
       "      <th>High(t-1)</th>\n",
       "      <th>Low(t-1)</th>\n",
       "      <th>Close(t-1)</th>\n",
       "      <th>Open(t-2)</th>\n",
       "      <th>High(t-2)</th>\n",
       "      <th>Low(t-2)</th>\n",
       "      <th>Close(t-2)</th>\n",
       "      <th>Open(t-3)</th>\n",
       "      <th>High(t-3)</th>\n",
       "      <th>Low(t-3)</th>\n",
       "      <th>Close(t-3)</th>\n",
       "    </tr>\n",
       "    <tr>\n",
       "      <th>Date</th>\n",
       "      <th></th>\n",
       "      <th></th>\n",
       "      <th></th>\n",
       "      <th></th>\n",
       "      <th></th>\n",
       "      <th></th>\n",
       "      <th></th>\n",
       "      <th></th>\n",
       "      <th></th>\n",
       "      <th></th>\n",
       "      <th></th>\n",
       "      <th></th>\n",
       "      <th></th>\n",
       "      <th></th>\n",
       "      <th></th>\n",
       "      <th></th>\n",
       "      <th></th>\n",
       "      <th></th>\n",
       "      <th></th>\n",
       "    </tr>\n",
       "  </thead>\n",
       "  <tbody>\n",
       "    <tr>\n",
       "      <th>2015-02-12</th>\n",
       "      <td>BANPU</td>\n",
       "      <td>ใน ช่วง ภาค บ่าย จับตา หุ้น วันนี้ วอ ลุ่ม หนา...</td>\n",
       "      <td>27.75</td>\n",
       "      <td>26.0</td>\n",
       "      <td>27.75</td>\n",
       "      <td>26.0</td>\n",
       "      <td>27.5</td>\n",
       "      <td>25.75</td>\n",
       "      <td>26.0</td>\n",
       "      <td>25.25</td>\n",
       "      <td>25.75</td>\n",
       "      <td>25.5</td>\n",
       "      <td>26.0</td>\n",
       "      <td>25.25</td>\n",
       "      <td>25.75</td>\n",
       "      <td>25.5</td>\n",
       "      <td>26.0</td>\n",
       "      <td>25.5</td>\n",
       "      <td>25.5</td>\n",
       "    </tr>\n",
       "  </tbody>\n",
       "</table>\n",
       "</div>"
      ],
      "text/plain": [
       "           Ticker                                               Text  \\\n",
       "Date                                                                   \n",
       "2015-02-12  BANPU  ใน ช่วง ภาค บ่าย จับตา หุ้น วันนี้ วอ ลุ่ม หนา...   \n",
       "\n",
       "            Close(t+1)  Open(t)  High(t)  Low(t)  Close(t)  Open(t-1)  \\\n",
       "Date                                                                    \n",
       "2015-02-12       27.75     26.0    27.75    26.0      27.5      25.75   \n",
       "\n",
       "            High(t-1)  Low(t-1)  Close(t-1)  Open(t-2)  High(t-2)  Low(t-2)  \\\n",
       "Date                                                                          \n",
       "2015-02-12       26.0     25.25       25.75       25.5       26.0     25.25   \n",
       "\n",
       "            Close(t-2)  Open(t-3)  High(t-3)  Low(t-3)  Close(t-3)  \n",
       "Date                                                                \n",
       "2015-02-12       25.75       25.5       26.0      25.5        25.5  "
      ]
     },
     "execution_count": 3,
     "metadata": {},
     "output_type": "execute_result"
    },
    {
     "data": {
      "text/html": [
       "<div>\n",
       "<style scoped>\n",
       "    .dataframe tbody tr th:only-of-type {\n",
       "        vertical-align: middle;\n",
       "    }\n",
       "\n",
       "    .dataframe tbody tr th {\n",
       "        vertical-align: top;\n",
       "    }\n",
       "\n",
       "    .dataframe thead th {\n",
       "        text-align: right;\n",
       "    }\n",
       "</style>\n",
       "<table border=\"1\" class=\"dataframe\">\n",
       "  <thead>\n",
       "    <tr style=\"text-align: right;\">\n",
       "      <th></th>\n",
       "      <th>Ticker</th>\n",
       "      <th>Text</th>\n",
       "      <th>Close(t+1)</th>\n",
       "      <th>Open(t)</th>\n",
       "      <th>High(t)</th>\n",
       "      <th>Low(t)</th>\n",
       "      <th>Close(t)</th>\n",
       "      <th>Open(t-1)</th>\n",
       "      <th>High(t-1)</th>\n",
       "      <th>Low(t-1)</th>\n",
       "      <th>Close(t-1)</th>\n",
       "      <th>Open(t-2)</th>\n",
       "      <th>High(t-2)</th>\n",
       "      <th>Low(t-2)</th>\n",
       "      <th>Close(t-2)</th>\n",
       "      <th>Open(t-3)</th>\n",
       "      <th>High(t-3)</th>\n",
       "      <th>Low(t-3)</th>\n",
       "      <th>Close(t-3)</th>\n",
       "    </tr>\n",
       "    <tr>\n",
       "      <th>Date</th>\n",
       "      <th></th>\n",
       "      <th></th>\n",
       "      <th></th>\n",
       "      <th></th>\n",
       "      <th></th>\n",
       "      <th></th>\n",
       "      <th></th>\n",
       "      <th></th>\n",
       "      <th></th>\n",
       "      <th></th>\n",
       "      <th></th>\n",
       "      <th></th>\n",
       "      <th></th>\n",
       "      <th></th>\n",
       "      <th></th>\n",
       "      <th></th>\n",
       "      <th></th>\n",
       "      <th></th>\n",
       "      <th></th>\n",
       "    </tr>\n",
       "  </thead>\n",
       "  <tbody>\n",
       "    <tr>\n",
       "      <th>2017-01-27</th>\n",
       "      <td>BANPU</td>\n",
       "      <td>บ ลดี บีเอ สวิคเคอร์ส ระบุ ใน บทวิเคราะห์ วัน ...</td>\n",
       "      <td>19.2</td>\n",
       "      <td>19.6</td>\n",
       "      <td>19.8</td>\n",
       "      <td>19.4</td>\n",
       "      <td>19.6</td>\n",
       "      <td>20.1</td>\n",
       "      <td>20.1</td>\n",
       "      <td>19.6</td>\n",
       "      <td>19.6</td>\n",
       "      <td>19.8</td>\n",
       "      <td>20.1</td>\n",
       "      <td>19.8</td>\n",
       "      <td>20.0</td>\n",
       "      <td>19.6</td>\n",
       "      <td>19.9</td>\n",
       "      <td>19.6</td>\n",
       "      <td>19.7</td>\n",
       "    </tr>\n",
       "  </tbody>\n",
       "</table>\n",
       "</div>"
      ],
      "text/plain": [
       "           Ticker                                               Text  \\\n",
       "Date                                                                   \n",
       "2017-01-27  BANPU  บ ลดี บีเอ สวิคเคอร์ส ระบุ ใน บทวิเคราะห์ วัน ...   \n",
       "\n",
       "            Close(t+1)  Open(t)  High(t)  Low(t)  Close(t)  Open(t-1)  \\\n",
       "Date                                                                    \n",
       "2017-01-27        19.2     19.6     19.8    19.4      19.6       20.1   \n",
       "\n",
       "            High(t-1)  Low(t-1)  Close(t-1)  Open(t-2)  High(t-2)  Low(t-2)  \\\n",
       "Date                                                                          \n",
       "2017-01-27       20.1      19.6        19.6       19.8       20.1      19.8   \n",
       "\n",
       "            Close(t-2)  Open(t-3)  High(t-3)  Low(t-3)  Close(t-3)  \n",
       "Date                                                                \n",
       "2017-01-27        20.0       19.6       19.9      19.6        19.7  "
      ]
     },
     "execution_count": 3,
     "metadata": {},
     "output_type": "execute_result"
    }
   ],
   "source": [
    "N_lags = 3\n",
    "N_horizon = 1\n",
    "\n",
    "df_train = []\n",
    "df_test = []\n",
    "for stock in tqdm_notebook(target_stocks):\n",
    "    news_stocks = []\n",
    "    df_stock = df_news.loc[df_news['Ticker'] == stock]\n",
    "    prev_date = None\n",
    "    prev_text = None\n",
    "    for date, row in df_stock.iterrows():\n",
    "        if prev_date == None:\n",
    "            prev_date = date\n",
    "            prev_text = row['Text']\n",
    "        elif prev_date != date:\n",
    "            # horizon\n",
    "            tmp_date = copy.deepcopy(prev_date)\n",
    "            tmp_date += timedelta(days=1)\n",
    "            prices = []\n",
    "            count_lags = 0 \n",
    "            while count_lags < N_horizon:\n",
    "                price = df_price.loc[(df_price.index == tmp_date) & (df_price['Ticker'] == stock)].values\n",
    "                tmp_date += timedelta(days=1)\n",
    "                if len(price) == 0: continue\n",
    "                prices.append(price[0][4]) # Close price next day(s)\n",
    "                count_lags+=1\n",
    "            \n",
    "            # lag\n",
    "            tmp_date = copy.deepcopy(prev_date)\n",
    "            count_lags = 0 \n",
    "            while count_lags <= N_lags:\n",
    "                price = df_price.loc[(df_price.index == tmp_date) & (df_price['Ticker'] == stock)].values\n",
    "                tmp_date -= timedelta(days=1)\n",
    "                if len(price) == 0: continue\n",
    "                for val in price[0][:-1]: \n",
    "                    if type(val) != str: prices.append(val)\n",
    "                count_lags+=1\n",
    "\n",
    "            news_stocks.append([prev_date, stock, prev_text] + prices)\n",
    "            \n",
    "            prev_date = date\n",
    "            prev_text = row['Text']\n",
    "        elif prev_date == date:\n",
    "            prev_text += ' '+row['Text']\n",
    "\n",
    "    news_stocks = pd.DataFrame.from_records(news_stocks)\n",
    "    news_stocks.columns = ['Date', 'Ticker', 'Text', \n",
    "                           'Close(t+1)', # 'Close(t+2)','Close(t+3)','Close(t+4)','Close(t+5)',\n",
    "                           'Open(t)', 'High(t)', 'Low(t)', 'Close(t)',\n",
    "                           'Open(t-1)', 'High(t-1)', 'Low(t-1)', 'Close(t-1)',\n",
    "                           'Open(t-2)', 'High(t-2)', 'Low(t-2)', 'Close(t-2)',\n",
    "                           'Open(t-3)', 'High(t-3)', 'Low(t-3)', 'Close(t-3)',\n",
    "#                            'Open(t-4)', 'High(t-4)', 'Low(t-4)', 'Close(t-4)',\n",
    "#                            'Open(t-5)', 'High(t-5)', 'Low(t-5)', 'Close(t-5)'\n",
    "                          ]\n",
    "    news_stocks = news_stocks.set_index('Date')\n",
    "    \n",
    "    train_size = int(len(news_stocks) * 0.80)\n",
    "    test_size = len(news_stocks) - train_size\n",
    "    train, test = news_stocks.iloc[:train_size], news_stocks.iloc[train_size:]\n",
    "    print(stock, ':\\t',len(train), len(test))    \n",
    "    df_train.append(train)\n",
    "    df_test.append(test)\n",
    "\n",
    "df_train = pd.concat(df_train, axis=0)\n",
    "df_test = pd.concat(df_test, axis=0)\n",
    "\n",
    "len(df_train), len(df_test) \n",
    "df_train.head(1)\n",
    "df_test.head(1)"
   ]
  },
  {
   "cell_type": "markdown",
   "metadata": {},
   "source": [
    "# TF-IDF Vetorization"
   ]
  },
  {
   "cell_type": "code",
   "execution_count": 4,
   "metadata": {},
   "outputs": [
    {
     "data": {
      "text/plain": [
       "(1967, 503)"
      ]
     },
     "execution_count": 4,
     "metadata": {},
     "output_type": "execute_result"
    },
    {
     "data": {
      "text/html": [
       "<div>\n",
       "<style scoped>\n",
       "    .dataframe tbody tr th:only-of-type {\n",
       "        vertical-align: middle;\n",
       "    }\n",
       "\n",
       "    .dataframe tbody tr th {\n",
       "        vertical-align: top;\n",
       "    }\n",
       "\n",
       "    .dataframe thead th {\n",
       "        text-align: right;\n",
       "    }\n",
       "</style>\n",
       "<table border=\"1\" class=\"dataframe\">\n",
       "  <thead>\n",
       "    <tr style=\"text-align: right;\">\n",
       "      <th></th>\n",
       "      <th>Ticker</th>\n",
       "      <th>Close(t+1)</th>\n",
       "      <th>Open(t)</th>\n",
       "      <th>High(t)</th>\n",
       "      <th>Low(t)</th>\n",
       "      <th>Close(t)</th>\n",
       "      <th>Open(t-1)</th>\n",
       "      <th>High(t-1)</th>\n",
       "      <th>Low(t-1)</th>\n",
       "      <th>Close(t-1)</th>\n",
       "      <th>...</th>\n",
       "      <th>2990</th>\n",
       "      <th>2991</th>\n",
       "      <th>2992</th>\n",
       "      <th>2993</th>\n",
       "      <th>2994</th>\n",
       "      <th>2995</th>\n",
       "      <th>2996</th>\n",
       "      <th>2997</th>\n",
       "      <th>2998</th>\n",
       "      <th>2999</th>\n",
       "    </tr>\n",
       "    <tr>\n",
       "      <th>Date</th>\n",
       "      <th></th>\n",
       "      <th></th>\n",
       "      <th></th>\n",
       "      <th></th>\n",
       "      <th></th>\n",
       "      <th></th>\n",
       "      <th></th>\n",
       "      <th></th>\n",
       "      <th></th>\n",
       "      <th></th>\n",
       "      <th></th>\n",
       "      <th></th>\n",
       "      <th></th>\n",
       "      <th></th>\n",
       "      <th></th>\n",
       "      <th></th>\n",
       "      <th></th>\n",
       "      <th></th>\n",
       "      <th></th>\n",
       "      <th></th>\n",
       "      <th></th>\n",
       "    </tr>\n",
       "  </thead>\n",
       "  <tbody>\n",
       "    <tr>\n",
       "      <th>2015-02-12</th>\n",
       "      <td>2</td>\n",
       "      <td>27.75</td>\n",
       "      <td>26.0</td>\n",
       "      <td>27.75</td>\n",
       "      <td>26.0</td>\n",
       "      <td>27.5</td>\n",
       "      <td>25.75</td>\n",
       "      <td>26.00</td>\n",
       "      <td>25.25</td>\n",
       "      <td>25.75</td>\n",
       "      <td>...</td>\n",
       "      <td>0.0</td>\n",
       "      <td>0.0</td>\n",
       "      <td>0.0</td>\n",
       "      <td>0.0</td>\n",
       "      <td>0.0</td>\n",
       "      <td>0.0</td>\n",
       "      <td>0.0</td>\n",
       "      <td>0.0</td>\n",
       "      <td>0.0</td>\n",
       "      <td>0.0</td>\n",
       "    </tr>\n",
       "    <tr>\n",
       "      <th>2015-02-24</th>\n",
       "      <td>2</td>\n",
       "      <td>29.75</td>\n",
       "      <td>28.5</td>\n",
       "      <td>28.75</td>\n",
       "      <td>28.0</td>\n",
       "      <td>28.5</td>\n",
       "      <td>29.00</td>\n",
       "      <td>29.25</td>\n",
       "      <td>28.25</td>\n",
       "      <td>28.25</td>\n",
       "      <td>...</td>\n",
       "      <td>0.0</td>\n",
       "      <td>0.0</td>\n",
       "      <td>0.0</td>\n",
       "      <td>0.0</td>\n",
       "      <td>0.0</td>\n",
       "      <td>0.0</td>\n",
       "      <td>0.0</td>\n",
       "      <td>0.0</td>\n",
       "      <td>0.0</td>\n",
       "      <td>0.0</td>\n",
       "    </tr>\n",
       "  </tbody>\n",
       "</table>\n",
       "<p>2 rows × 3018 columns</p>\n",
       "</div>"
      ],
      "text/plain": [
       "            Ticker  Close(t+1)  Open(t)  High(t)  Low(t)  Close(t)  Open(t-1)  \\\n",
       "Date                                                                            \n",
       "2015-02-12       2       27.75     26.0    27.75    26.0      27.5      25.75   \n",
       "2015-02-24       2       29.75     28.5    28.75    28.0      28.5      29.00   \n",
       "\n",
       "            High(t-1)  Low(t-1)  Close(t-1)  ...   2990  2991  2992  2993  \\\n",
       "Date                                         ...                            \n",
       "2015-02-12      26.00     25.25       25.75  ...    0.0   0.0   0.0   0.0   \n",
       "2015-02-24      29.25     28.25       28.25  ...    0.0   0.0   0.0   0.0   \n",
       "\n",
       "            2994  2995  2996  2997  2998  2999  \n",
       "Date                                            \n",
       "2015-02-12   0.0   0.0   0.0   0.0   0.0   0.0  \n",
       "2015-02-24   0.0   0.0   0.0   0.0   0.0   0.0  \n",
       "\n",
       "[2 rows x 3018 columns]"
      ]
     },
     "execution_count": 4,
     "metadata": {},
     "output_type": "execute_result"
    },
    {
     "data": {
      "text/html": [
       "<div>\n",
       "<style scoped>\n",
       "    .dataframe tbody tr th:only-of-type {\n",
       "        vertical-align: middle;\n",
       "    }\n",
       "\n",
       "    .dataframe tbody tr th {\n",
       "        vertical-align: top;\n",
       "    }\n",
       "\n",
       "    .dataframe thead th {\n",
       "        text-align: right;\n",
       "    }\n",
       "</style>\n",
       "<table border=\"1\" class=\"dataframe\">\n",
       "  <thead>\n",
       "    <tr style=\"text-align: right;\">\n",
       "      <th></th>\n",
       "      <th>Ticker</th>\n",
       "      <th>Close(t+1)</th>\n",
       "      <th>Open(t)</th>\n",
       "      <th>High(t)</th>\n",
       "      <th>Low(t)</th>\n",
       "      <th>Close(t)</th>\n",
       "      <th>Open(t-1)</th>\n",
       "      <th>High(t-1)</th>\n",
       "      <th>Low(t-1)</th>\n",
       "      <th>Close(t-1)</th>\n",
       "      <th>...</th>\n",
       "      <th>2990</th>\n",
       "      <th>2991</th>\n",
       "      <th>2992</th>\n",
       "      <th>2993</th>\n",
       "      <th>2994</th>\n",
       "      <th>2995</th>\n",
       "      <th>2996</th>\n",
       "      <th>2997</th>\n",
       "      <th>2998</th>\n",
       "      <th>2999</th>\n",
       "    </tr>\n",
       "    <tr>\n",
       "      <th>Date</th>\n",
       "      <th></th>\n",
       "      <th></th>\n",
       "      <th></th>\n",
       "      <th></th>\n",
       "      <th></th>\n",
       "      <th></th>\n",
       "      <th></th>\n",
       "      <th></th>\n",
       "      <th></th>\n",
       "      <th></th>\n",
       "      <th></th>\n",
       "      <th></th>\n",
       "      <th></th>\n",
       "      <th></th>\n",
       "      <th></th>\n",
       "      <th></th>\n",
       "      <th></th>\n",
       "      <th></th>\n",
       "      <th></th>\n",
       "      <th></th>\n",
       "      <th></th>\n",
       "    </tr>\n",
       "  </thead>\n",
       "  <tbody>\n",
       "    <tr>\n",
       "      <th>2017-01-27</th>\n",
       "      <td>2</td>\n",
       "      <td>19.2</td>\n",
       "      <td>19.6</td>\n",
       "      <td>19.8</td>\n",
       "      <td>19.4</td>\n",
       "      <td>19.6</td>\n",
       "      <td>20.1</td>\n",
       "      <td>20.1</td>\n",
       "      <td>19.6</td>\n",
       "      <td>19.6</td>\n",
       "      <td>...</td>\n",
       "      <td>0.0</td>\n",
       "      <td>0.0</td>\n",
       "      <td>0.0</td>\n",
       "      <td>0.0</td>\n",
       "      <td>0.0</td>\n",
       "      <td>0.0</td>\n",
       "      <td>0.0</td>\n",
       "      <td>0.0</td>\n",
       "      <td>0.0</td>\n",
       "      <td>0.0</td>\n",
       "    </tr>\n",
       "    <tr>\n",
       "      <th>2017-01-31</th>\n",
       "      <td>2</td>\n",
       "      <td>19.3</td>\n",
       "      <td>19.2</td>\n",
       "      <td>19.6</td>\n",
       "      <td>19.1</td>\n",
       "      <td>19.4</td>\n",
       "      <td>19.6</td>\n",
       "      <td>19.7</td>\n",
       "      <td>19.1</td>\n",
       "      <td>19.2</td>\n",
       "      <td>...</td>\n",
       "      <td>0.0</td>\n",
       "      <td>0.0</td>\n",
       "      <td>0.0</td>\n",
       "      <td>0.0</td>\n",
       "      <td>0.0</td>\n",
       "      <td>0.0</td>\n",
       "      <td>0.0</td>\n",
       "      <td>0.0</td>\n",
       "      <td>0.0</td>\n",
       "      <td>0.0</td>\n",
       "    </tr>\n",
       "  </tbody>\n",
       "</table>\n",
       "<p>2 rows × 3018 columns</p>\n",
       "</div>"
      ],
      "text/plain": [
       "            Ticker  Close(t+1)  Open(t)  High(t)  Low(t)  Close(t)  Open(t-1)  \\\n",
       "Date                                                                            \n",
       "2017-01-27       2        19.2     19.6     19.8    19.4      19.6       20.1   \n",
       "2017-01-31       2        19.3     19.2     19.6    19.1      19.4       19.6   \n",
       "\n",
       "            High(t-1)  Low(t-1)  Close(t-1)  ...   2990  2991  2992  2993  \\\n",
       "Date                                         ...                            \n",
       "2017-01-27       20.1      19.6        19.6  ...    0.0   0.0   0.0   0.0   \n",
       "2017-01-31       19.7      19.1        19.2  ...    0.0   0.0   0.0   0.0   \n",
       "\n",
       "            2994  2995  2996  2997  2998  2999  \n",
       "Date                                            \n",
       "2017-01-27   0.0   0.0   0.0   0.0   0.0   0.0  \n",
       "2017-01-31   0.0   0.0   0.0   0.0   0.0   0.0  \n",
       "\n",
       "[2 rows x 3018 columns]"
      ]
     },
     "execution_count": 4,
     "metadata": {},
     "output_type": "execute_result"
    },
    {
     "data": {
      "text/plain": [
       "array(['ADVANC', 'AOT', 'BANPU', 'BBL', 'BDMS', 'BH', 'CK', 'CPALL',\n",
       "       'CPF', 'CPN', 'HMPRO', 'IRPC', 'JAS', 'KBANK', 'MINT', 'PTT',\n",
       "       'SCB', 'SCC', 'THAI', 'TRUE', 'TU'], dtype=object)"
      ]
     },
     "execution_count": 4,
     "metadata": {},
     "output_type": "execute_result"
    }
   ],
   "source": [
    "stop_words = stopwords.words('thai')\n",
    "stop_words.remove('ขึ้น')\n",
    "stop_words.remove('ลง')\n",
    "\n",
    "vertorizer = TfidfVectorizer(stop_words=stop_words, \n",
    "                             max_df=0.9, \n",
    "                             min_df=2, \n",
    "                             max_features=3000)\n",
    "\n",
    "tfidf_train = vertorizer.fit_transform(df_train['Text'])\n",
    "tfidf_test = vertorizer.transform(df_test['Text'])\n",
    "\n",
    "df_tfidf_train = pd.DataFrame.from_records(tfidf_train.toarray())\n",
    "df_tfidf_test = pd.DataFrame.from_records(tfidf_test.toarray())\n",
    "\n",
    "df_tfidf_train = df_tfidf_train.set_index(df_train.index)\n",
    "df_tfidf_test = df_tfidf_test.set_index(df_test.index)\n",
    "\n",
    "len(df_tfidf_train), len(df_tfidf_test)\n",
    "\n",
    "# replace Text with TF-IDF vector\n",
    "x_train = df_train.drop(['Text'], axis=1)\n",
    "x_train = pd.concat([x_train, df_tfidf_train], axis=1)\n",
    "\n",
    "x_test = df_test.drop(['Text'], axis=1)\n",
    "x_test = pd.concat([x_test, df_tfidf_test], axis=1)\n",
    "\n",
    "# Label Encoding\n",
    "le = preprocessing.LabelEncoder()\n",
    "x_train['Ticker'] = le.fit_transform(x_train['Ticker'])\n",
    "x_test['Ticker'] = le.transform(x_test['Ticker'])\n",
    "x_train.head(2)\n",
    "x_test.head(2)\n",
    "le.classes_"
   ]
  },
  {
   "cell_type": "code",
   "execution_count": 5,
   "metadata": {},
   "outputs": [],
   "source": [
    "pickle.dump(le, open('models/le.pkl', 'wb'))"
   ]
  },
  {
   "cell_type": "markdown",
   "metadata": {},
   "source": [
    "# Create x_train and y_train"
   ]
  },
  {
   "cell_type": "code",
   "execution_count": 6,
   "metadata": {
    "scrolled": true
   },
   "outputs": [
    {
     "data": {
      "text/plain": [
       "((1967, 3017), (1967, 1))"
      ]
     },
     "execution_count": 6,
     "metadata": {},
     "output_type": "execute_result"
    }
   ],
   "source": [
    "Horizon = 'Close(t+1)'\n",
    "y_train = x_train[[Horizon]]\n",
    "x_train = x_train.drop(['Close(t+1)'], axis=1).copy()\n",
    "x_train.shape, y_train.shape"
   ]
  },
  {
   "cell_type": "markdown",
   "metadata": {},
   "source": [
    "# Evaluate Each Stcok"
   ]
  },
  {
   "cell_type": "code",
   "execution_count": 7,
   "metadata": {},
   "outputs": [],
   "source": [
    "def mean_absolute_percentage_error(y_true, y_pred): \n",
    "    return np.mean(np.abs((y_true - y_pred) / y_true)) * 100\n",
    "\n",
    "def evaluator(clf, df_test, le, isXGB=False, isLSTM=False):\n",
    "    RMSEs, MAEs, MAPEs, DAs = [], [], [], []\n",
    "    results = []\n",
    "    for stock in target_stocks:\n",
    "        x_tmp = df_test.loc[df_test['Ticker'] == le.transform([stock])[0]].copy()\n",
    "        \n",
    "        y_tmp = x_tmp[Horizon].values\n",
    "        \n",
    "        # Directional Accuracy\n",
    "        changes = x_tmp[Horizon] -  x_tmp['Close(t)']\n",
    "        y_true_da = []\n",
    "        for change in changes:\n",
    "            y_true_da.append(1 if change >= 0 else 0)\n",
    "                \n",
    "        x_tmp = x_tmp.drop(['Close(t+1)'], axis=1)\n",
    "        \n",
    "        if isXGB:\n",
    "            y_pred = clf.predict(xgboost.DMatrix(x_tmp))\n",
    "        elif isLSTM:\n",
    "            x = x_tmp.values\n",
    "            x = x.reshape((x.shape[0], x.shape[1], 1))\n",
    "            y_pred = clf.predict(x)\n",
    "        else:\n",
    "            y_pred = clf.predict(x_tmp.as_matrix())\n",
    "        \n",
    "        # Directional Accuracy Pred\n",
    "        changes = np.reshape(y_pred, (-1,1)) -  np.reshape(x_tmp['Close(t)'].values,(-1,1))\n",
    "        y_pred_da = []\n",
    "        for change in changes:\n",
    "            y_pred_da.append(1 if change >= 0 else 0)\n",
    "        \n",
    "        RMSE = np.sqrt(mean_squared_error(y_tmp, y_pred))\n",
    "        MAE = mean_absolute_error(y_tmp, y_pred)\n",
    "        MAPE = mean_absolute_percentage_error(y_tmp, y_pred)\n",
    "        DA = accuracy_score(y_true_da, y_pred_da)\n",
    "        print(stock, \"\\tRMSE: %.2f\\t MAE: %.2f \\tMAPE: %.2f \\tDA: %.2f\" % (RMSE, MAE, MAPE, DA))\n",
    "        RMSEs.append(RMSE)\n",
    "        MAEs.append(MAE)\n",
    "        MAPEs.append(MAPE)\n",
    "        DAs.append(DA)\n",
    "    \n",
    "    print('\\nmean RMSE:', round(np.mean(RMSEs),2))\n",
    "    print('mean MAE:', round(np.mean(MAEs),2))\n",
    "    print('mean MAPE:', round(np.mean(MAPEs),2))\n",
    "    print('mean DA:', round(np.mean(DAs),4))"
   ]
  },
  {
   "cell_type": "code",
   "execution_count": 148,
   "metadata": {},
   "outputs": [],
   "source": [
    "def ensemble_evaluator(bagging, ada_dt, ada_rf,  xgb, df_test, le, feature_importances, feature_importances_da):\n",
    "    RMSEs, MAEs, MAPEs, DAs = [], [], [], []\n",
    "    results = []\n",
    "    for stock in target_stocks:\n",
    "        x_tmp = df_test.loc[df_test['Ticker'] == le.transform([stock])[0]].copy()\n",
    "        \n",
    "        # Directional Accuracy\n",
    "        changes = x_tmp[Horizon] - x_tmp['Close(t)']\n",
    "        y_true_da = []\n",
    "        for change in changes:\n",
    "            y_true_da.append(1 if change >= 0 else 0)\n",
    "        \n",
    "        y_tmp = x_tmp[Horizon].values.reshape(-1,1)\n",
    "        x_tmp = x_tmp.drop([Horizon], axis=1)        \n",
    "        \n",
    "        # Prediction\n",
    "        y_pred = np.concatenate((\n",
    "                                 bagging.predict(x_tmp).reshape(-1,1),\n",
    "                                 ada_dt.predict(x_tmp).reshape(-1,1),\n",
    "                                 ada_rf.predict(x_tmp).reshape(-1,1),\n",
    "                                 xgb.predict(xgboost.DMatrix(x_tmp)).reshape(-1,1)), \n",
    "                                axis=1)\n",
    "        \n",
    "        df_pred = pd.DataFrame.from_records(y_pred).round(2)\n",
    "        df_pred.columns = ['Bagging_DT', 'Ada_DT', 'Ada_RF', 'XGB']\n",
    "        df_pred.head()\n",
    "\n",
    "        # Directional Accuracy Pred\n",
    "        close_t = np.reshape(x_tmp['Close(t)'].values, (-1, 1))\n",
    "        y_changes = np.concatenate((\n",
    "                                    np.array(y_pred[:,0]).reshape(-1,1)-close_t,\n",
    "                                    np.array(y_pred[:,1]).reshape(-1,1)-close_t,\n",
    "                                    np.array(y_pred[:,2]).reshape(-1,1)-close_t,\n",
    "                                    np.array(y_pred[:,3]).reshape(-1,1)-close_t,\n",
    "                                   ), axis=1)\n",
    "        y_pred_da = []\n",
    "        for row in y_changes:\n",
    "            tmp_row = []\n",
    "            for change in row:\n",
    "                tmp_row.append(1 if change>=0 else 0)\n",
    "            y_pred_da.append(tmp_row)\n",
    "\n",
    "        df_pred_da = pd.DataFrame.from_records(y_pred_da)\n",
    "        df_pred_da.columns = ['Bagging_DT', 'Ada_DT', 'Ada_RF', 'XGB']\n",
    "        df_pred_da.head()\n",
    "        \n",
    "        \n",
    "        df_pred['weight'] = (\n",
    "                     df_pred['Bagging_DT']*feature_importances[0] + \n",
    "                     df_pred['Ada_DT']*feature_importances[1] + \n",
    "                     df_pred['Ada_RF']*feature_importances[2] + \n",
    "                     df_pred['XGB']*feature_importances[3]\n",
    "        )\n",
    "        \n",
    "        df_pred_da['vote'] = (\n",
    "                     df_pred_da['Bagging_DT']*feature_importances_da[0] + \n",
    "                     df_pred_da['Ada_DT']*feature_importances_da[1] + \n",
    "                     df_pred_da['Ada_RF']*feature_importances_da[2] + \n",
    "                     df_pred_da['XGB']*feature_importances_da[3]\n",
    "        ).round(0).astype(int)\n",
    "\n",
    "        y_pred = df_pred['weight'].values.reshape(-1,1)\n",
    "        y_pred_da = df_pred_da['vote'].values.reshape(-1,1)\n",
    "        \n",
    "        RMSE = np.sqrt(mean_squared_error(y_tmp, y_pred))\n",
    "        MAE = mean_absolute_error(y_tmp, y_pred)\n",
    "        MAPE = mean_absolute_percentage_error(y_tmp, y_pred)\n",
    "        DA = accuracy_score(y_true_da, y_pred_da)\n",
    "        print(stock, \"\\tRMSE: %.2f\\t MAE: %.2f \\tMAPE: %.2f \\tDA: %.2f\" % (RMSE, MAE, MAPE, DA))\n",
    "        RMSEs.append(RMSE)\n",
    "        MAEs.append(MAE)\n",
    "        MAPEs.append(MAPE)\n",
    "        DAs.append(DA)\n",
    "    \n",
    "    print('\\nmean RMSE:', round(np.mean(RMSEs),2))\n",
    "    print('mean MAE:', round(np.mean(MAEs),2))\n",
    "    print('mean MAPE:', round(np.mean(MAPEs),2))\n",
    "    print('mean DA:', round(np.mean(DAs),4))"
   ]
  },
  {
   "cell_type": "markdown",
   "metadata": {},
   "source": [
    "# Ensemble"
   ]
  },
  {
   "cell_type": "code",
   "execution_count": 149,
   "metadata": {},
   "outputs": [
    {
     "name": "stdout",
     "output_type": "stream",
     "text": [
      "BANPU \tRMSE: 0.31\t MAE: 0.24 \tMAPE: 1.33 \tDA: 0.90\n",
      "IRPC \tRMSE: 0.11\t MAE: 0.08 \tMAPE: 1.40 \tDA: 0.47\n",
      "PTT \tRMSE: 6.11\t MAE: 4.89 \tMAPE: 1.20 \tDA: 0.53\n",
      "BBL \tRMSE: 2.67\t MAE: 1.84 \tMAPE: 0.94 \tDA: 0.38\n",
      "KBANK \tRMSE: 2.79\t MAE: 2.35 \tMAPE: 1.18 \tDA: 0.44\n",
      "SCB \tRMSE: 2.24\t MAE: 1.57 \tMAPE: 1.03 \tDA: 0.50\n",
      "AOT \tRMSE: 1.46\t MAE: 0.92 \tMAPE: 1.85 \tDA: 0.57\n",
      "THAI \tRMSE: 0.68\t MAE: 0.44 \tMAPE: 2.19 \tDA: 0.61\n",
      "CPF \tRMSE: 0.32\t MAE: 0.22 \tMAPE: 0.86 \tDA: 0.72\n",
      "MINT \tRMSE: 0.90\t MAE: 0.76 \tMAPE: 1.86 \tDA: 0.58\n",
      "TU \tRMSE: 0.49\t MAE: 0.32 \tMAPE: 1.59 \tDA: 0.57\n",
      "SCC \tRMSE: 5.50\t MAE: 3.75 \tMAPE: 0.74 \tDA: 0.70\n",
      "CPN \tRMSE: 3.46\t MAE: 2.84 \tMAPE: 3.78 \tDA: 0.59\n",
      "CK \tRMSE: 0.54\t MAE: 0.37 \tMAPE: 1.32 \tDA: 0.50\n",
      "CPALL \tRMSE: 2.06\t MAE: 1.60 \tMAPE: 2.68 \tDA: 0.45\n",
      "HMPRO \tRMSE: 0.20\t MAE: 0.16 \tMAPE: 1.50 \tDA: 0.62\n",
      "BDMS \tRMSE: 0.45\t MAE: 0.30 \tMAPE: 1.51 \tDA: 0.59\n",
      "BH \tRMSE: 2.01\t MAE: 1.67 \tMAPE: 0.89 \tDA: 0.54\n",
      "ADVANC \tRMSE: 2.07\t MAE: 1.63 \tMAPE: 0.98 \tDA: 0.55\n",
      "JAS \tRMSE: 0.39\t MAE: 0.27 \tMAPE: 3.27 \tDA: 0.58\n",
      "TRUE \tRMSE: 0.16\t MAE: 0.13 \tMAPE: 2.12 \tDA: 0.64\n",
      "\n",
      "mean RMSE: 1.66\n",
      "mean MAE: 1.26\n",
      "mean MAPE: 1.63\n",
      "mean DA: 0.5729\n"
     ]
    }
   ],
   "source": [
    "ensemble_evaluator( \n",
    "                   bagging,\n",
    "                   adaboost_dt_regr, \n",
    "                   adaboost_rf_regr, \n",
    "                   xgb,\n",
    "                   x_test, le, feature_importances, feature_importances_da)"
   ]
  },
  {
   "cell_type": "markdown",
   "metadata": {},
   "source": [
    "# Linear Regression"
   ]
  },
  {
   "cell_type": "code",
   "execution_count": 9,
   "metadata": {},
   "outputs": [
    {
     "data": {
      "text/plain": [
       "LinearRegression(copy_X=True, fit_intercept=True, n_jobs=1, normalize=False)"
      ]
     },
     "execution_count": 9,
     "metadata": {},
     "output_type": "execute_result"
    },
    {
     "name": "stdout",
     "output_type": "stream",
     "text": [
      "BANPU \tRMSE: 24.30\t MAE: 17.37 \tMAPE: 100.63 \tDA: 0.71\n",
      "IRPC \tRMSE: 20.75\t MAE: 15.71 \tMAPE: 273.52 \tDA: 0.47\n",
      "PTT \tRMSE: 41.14\t MAE: 32.50 \tMAPE: 9.76 \tDA: 0.57\n",
      "BBL \tRMSE: 24.67\t MAE: 17.89 \tMAPE: 12.72 \tDA: 0.58\n",
      "KBANK \tRMSE: 33.21\t MAE: 24.68 \tMAPE: 16.62 \tDA: 0.56\n",
      "SCB \tRMSE: 28.74\t MAE: 23.79 \tMAPE: 16.09 \tDA: 0.53\n",
      "AOT \tRMSE: 66.41\t MAE: 37.36 \tMAPE: 80.20 \tDA: 0.51\n",
      "THAI \tRMSE: 28.35\t MAE: 21.84 \tMAPE: 112.89 \tDA: 0.52\n",
      "CPF \tRMSE: 25.72\t MAE: 19.62 \tMAPE: 76.02 \tDA: 0.53\n",
      "MINT \tRMSE: 21.41\t MAE: 16.85 \tMAPE: 45.50 \tDA: 0.58\n",
      "TU \tRMSE: 37.81\t MAE: 26.42 \tMAPE: 133.11 \tDA: 0.57\n",
      "SCC \tRMSE: 30.12\t MAE: 23.06 \tMAPE: 5.97 \tDA: 0.52\n",
      "CPN \tRMSE: 29.56\t MAE: 25.66 \tMAPE: 37.45 \tDA: 0.71\n",
      "CK \tRMSE: 27.40\t MAE: 19.88 \tMAPE: 69.48 \tDA: 0.38\n",
      "CPALL \tRMSE: 26.16\t MAE: 19.37 \tMAPE: 36.59 \tDA: 0.55\n",
      "HMPRO \tRMSE: 32.72\t MAE: 25.32 \tMAPE: 251.28 \tDA: 0.31\n",
      "BDMS \tRMSE: 27.22\t MAE: 20.60 \tMAPE: 102.24 \tDA: 0.41\n",
      "BH \tRMSE: 21.98\t MAE: 16.42 \tMAPE: 10.83 \tDA: 0.62\n",
      "ADVANC \tRMSE: 37.58\t MAE: 30.41 \tMAPE: 21.43 \tDA: 0.55\n",
      "JAS \tRMSE: 25.70\t MAE: 17.66 \tMAPE: 221.37 \tDA: 0.62\n",
      "TRUE \tRMSE: 27.33\t MAE: 21.65 \tMAPE: 339.94 \tDA: 0.55\n",
      "\n",
      "mean RMSE: 30.39\n",
      "mean MAE: 22.58\n",
      "mean MAPE: 93.98\n",
      "mean DA: 0.5396\n"
     ]
    }
   ],
   "source": [
    "lineregr = linear_model.LinearRegression()\n",
    "lineregr.fit(x_train, y_train)\n",
    "\n",
    "evaluator(lineregr, x_test, le)"
   ]
  },
  {
   "cell_type": "markdown",
   "metadata": {},
   "source": [
    "# Support Vector Regressor"
   ]
  },
  {
   "cell_type": "code",
   "execution_count": null,
   "metadata": {},
   "outputs": [],
   "source": [
    "# from sklearn.svm import SVR\n",
    "# svr = SVR()\n",
    "# svr.fit(x_train, y_train)\n",
    "\n",
    "# evaluator(svr, x_test, le)"
   ]
  },
  {
   "cell_type": "markdown",
   "metadata": {},
   "source": [
    "# Decistion Tree Regressor"
   ]
  },
  {
   "cell_type": "code",
   "execution_count": 12,
   "metadata": {},
   "outputs": [
    {
     "data": {
      "text/plain": [
       "DecisionTreeRegressor(criterion='mse', max_depth=None, max_features=None,\n",
       "           max_leaf_nodes=None, min_impurity_decrease=0.0,\n",
       "           min_impurity_split=None, min_samples_leaf=1,\n",
       "           min_samples_split=2, min_weight_fraction_leaf=0.0,\n",
       "           presort=False, random_state=None, splitter='best')"
      ]
     },
     "execution_count": 12,
     "metadata": {},
     "output_type": "execute_result"
    },
    {
     "name": "stdout",
     "output_type": "stream",
     "text": [
      "BANPU \tRMSE: 0.55\t MAE: 0.39 \tMAPE: 2.16 \tDA: 0.81\n",
      "IRPC \tRMSE: 0.15\t MAE: 0.11 \tMAPE: 1.92 \tDA: 0.53\n",
      "PTT \tRMSE: 7.91\t MAE: 6.13 \tMAPE: 1.50 \tDA: 0.57\n",
      "BBL \tRMSE: 4.91\t MAE: 3.58 \tMAPE: 1.86 \tDA: 0.42\n",
      "KBANK \tRMSE: 3.92\t MAE: 3.09 \tMAPE: 1.54 \tDA: 0.59\n",
      "SCB \tRMSE: 4.03\t MAE: 2.45 \tMAPE: 1.60 \tDA: 0.57\n",
      "AOT \tRMSE: 1.52\t MAE: 0.98 \tMAPE: 1.97 \tDA: 0.57\n",
      "THAI \tRMSE: 0.85\t MAE: 0.60 \tMAPE: 3.04 \tDA: 0.35\n",
      "CPF \tRMSE: 0.64\t MAE: 0.47 \tMAPE: 1.80 \tDA: 0.58\n",
      "MINT \tRMSE: 1.66\t MAE: 1.28 \tMAPE: 3.11 \tDA: 0.47\n",
      "TU \tRMSE: 0.60\t MAE: 0.42 \tMAPE: 2.10 \tDA: 0.64\n",
      "SCC \tRMSE: 8.14\t MAE: 5.48 \tMAPE: 1.11 \tDA: 0.70\n",
      "CPN \tRMSE: 2.92\t MAE: 2.35 \tMAPE: 3.31 \tDA: 0.47\n",
      "CK \tRMSE: 0.85\t MAE: 0.56 \tMAPE: 1.97 \tDA: 0.56\n",
      "CPALL \tRMSE: 2.26\t MAE: 1.59 \tMAPE: 2.62 \tDA: 0.64\n",
      "HMPRO \tRMSE: 0.24\t MAE: 0.20 \tMAPE: 1.92 \tDA: 0.69\n",
      "BDMS \tRMSE: 0.47\t MAE: 0.35 \tMAPE: 1.75 \tDA: 0.65\n",
      "BH \tRMSE: 4.42\t MAE: 3.42 \tMAPE: 1.86 \tDA: 0.46\n",
      "ADVANC \tRMSE: 3.37\t MAE: 2.84 \tMAPE: 1.69 \tDA: 0.59\n",
      "JAS \tRMSE: 0.41\t MAE: 0.28 \tMAPE: 3.40 \tDA: 0.54\n",
      "TRUE \tRMSE: 0.17\t MAE: 0.13 \tMAPE: 2.05 \tDA: 0.68\n",
      "\n",
      "mean RMSE: 2.38\n",
      "mean MAE: 1.75\n",
      "mean MAPE: 2.11\n",
      "mean DA: 0.5754\n"
     ]
    }
   ],
   "source": [
    "decis_tree_regr = tree.DecisionTreeRegressor(max_depth=None)\n",
    "decis_tree_regr.fit(x_train, y_train.values.ravel())\n",
    "\n",
    "evaluator(decis_tree_regr, x_test, le)"
   ]
  },
  {
   "cell_type": "markdown",
   "metadata": {},
   "source": [
    "# Random Forest Regrssor"
   ]
  },
  {
   "cell_type": "code",
   "execution_count": 15,
   "metadata": {
    "collapsed": true
   },
   "outputs": [
    {
     "data": {
      "text/plain": [
       "RandomForestRegressor(bootstrap=True, criterion='mse', max_depth=None,\n",
       "           max_features='auto', max_leaf_nodes=None,\n",
       "           min_impurity_decrease=0.0, min_impurity_split=None,\n",
       "           min_samples_leaf=1, min_samples_split=2,\n",
       "           min_weight_fraction_leaf=0.0, n_estimators=30, n_jobs=-1,\n",
       "           oob_score=False, random_state=None, verbose=0, warm_start=False)"
      ]
     },
     "execution_count": 15,
     "metadata": {},
     "output_type": "execute_result"
    },
    {
     "name": "stdout",
     "output_type": "stream",
     "text": [
      "BANPU \tRMSE: 0.32\t MAE: 0.25 \tMAPE: 1.37 \tDA: 0.86\n",
      "IRPC \tRMSE: 0.12\t MAE: 0.10 \tMAPE: 1.67 \tDA: 0.42\n",
      "PTT \tRMSE: 7.30\t MAE: 5.65 \tMAPE: 1.39 \tDA: 0.58\n",
      "BBL \tRMSE: 2.55\t MAE: 1.81 \tMAPE: 0.92 \tDA: 0.42\n",
      "KBANK \tRMSE: 2.77\t MAE: 2.30 \tMAPE: 1.15 \tDA: 0.44\n",
      "SCB \tRMSE: 2.30\t MAE: 1.66 \tMAPE: 1.09 \tDA: 0.47\n",
      "AOT \tRMSE: 4.86\t MAE: 1.56 \tMAPE: 3.43 \tDA: 0.54\n",
      "THAI \tRMSE: 0.65\t MAE: 0.43 \tMAPE: 2.16 \tDA: 0.61\n",
      "CPF \tRMSE: 0.39\t MAE: 0.29 \tMAPE: 1.09 \tDA: 0.61\n",
      "MINT \tRMSE: 0.97\t MAE: 0.83 \tMAPE: 2.02 \tDA: 0.42\n",
      "TU \tRMSE: 0.50\t MAE: 0.33 \tMAPE: 1.61 \tDA: 0.43\n",
      "SCC \tRMSE: 5.92\t MAE: 4.17 \tMAPE: 0.83 \tDA: 0.61\n",
      "CPN \tRMSE: 3.94\t MAE: 3.39 \tMAPE: 4.55 \tDA: 0.53\n",
      "CK \tRMSE: 0.69\t MAE: 0.51 \tMAPE: 1.83 \tDA: 0.19\n",
      "CPALL \tRMSE: 1.97\t MAE: 1.36 \tMAPE: 2.28 \tDA: 0.55\n",
      "HMPRO \tRMSE: 0.23\t MAE: 0.20 \tMAPE: 1.89 \tDA: 0.54\n",
      "BDMS \tRMSE: 0.42\t MAE: 0.27 \tMAPE: 1.32 \tDA: 0.76\n",
      "BH \tRMSE: 2.47\t MAE: 1.88 \tMAPE: 1.01 \tDA: 0.54\n",
      "ADVANC \tRMSE: 2.21\t MAE: 1.72 \tMAPE: 1.04 \tDA: 0.59\n",
      "JAS \tRMSE: 0.39\t MAE: 0.28 \tMAPE: 3.44 \tDA: 0.54\n",
      "TRUE \tRMSE: 0.15\t MAE: 0.13 \tMAPE: 2.06 \tDA: 0.73\n",
      "\n",
      "mean RMSE: 1.96\n",
      "mean MAE: 1.39\n",
      "mean MAPE: 1.82\n",
      "mean DA: 0.5415\n"
     ]
    }
   ],
   "source": [
    "rnd_forest_regr = ensemble.RandomForestRegressor(n_jobs=-1,\n",
    "                                                max_depth=None,\n",
    "                                                n_estimators=30)\n",
    "rnd_forest_regr.fit(x_train, y_train.values.ravel())\n",
    "\n",
    "evaluator(rnd_forest_regr, x_test, le)"
   ]
  },
  {
   "cell_type": "markdown",
   "metadata": {},
   "source": [
    "# Bagging Regressor"
   ]
  },
  {
   "cell_type": "code",
   "execution_count": 17,
   "metadata": {},
   "outputs": [
    {
     "data": {
      "text/plain": [
       "BaggingRegressor(base_estimator=None, bootstrap=True,\n",
       "         bootstrap_features=False, max_features=1.0, max_samples=1.0,\n",
       "         n_estimators=30, n_jobs=-1, oob_score=False, random_state=None,\n",
       "         verbose=0, warm_start=False)"
      ]
     },
     "execution_count": 17,
     "metadata": {},
     "output_type": "execute_result"
    },
    {
     "name": "stdout",
     "output_type": "stream",
     "text": [
      "BANPU \tRMSE: 0.35\t MAE: 0.28 \tMAPE: 1.56 \tDA: 0.81\n",
      "IRPC \tRMSE: 0.12\t MAE: 0.10 \tMAPE: 1.64 \tDA: 0.53\n",
      "PTT \tRMSE: 6.66\t MAE: 5.20 \tMAPE: 1.28 \tDA: 0.53\n",
      "BBL \tRMSE: 2.53\t MAE: 1.82 \tMAPE: 0.93 \tDA: 0.54\n",
      "KBANK \tRMSE: 2.62\t MAE: 2.15 \tMAPE: 1.08 \tDA: 0.47\n",
      "SCB \tRMSE: 2.40\t MAE: 1.77 \tMAPE: 1.16 \tDA: 0.47\n",
      "AOT \tRMSE: 4.70\t MAE: 1.52 \tMAPE: 3.33 \tDA: 0.49\n",
      "THAI \tRMSE: 0.68\t MAE: 0.44 \tMAPE: 2.21 \tDA: 0.58\n",
      "CPF \tRMSE: 0.37\t MAE: 0.27 \tMAPE: 1.02 \tDA: 0.58\n",
      "MINT \tRMSE: 1.04\t MAE: 0.90 \tMAPE: 2.18 \tDA: 0.42\n",
      "TU \tRMSE: 0.50\t MAE: 0.32 \tMAPE: 1.56 \tDA: 0.64\n",
      "SCC \tRMSE: 6.49\t MAE: 4.30 \tMAPE: 0.85 \tDA: 0.57\n",
      "CPN \tRMSE: 3.53\t MAE: 3.11 \tMAPE: 4.22 \tDA: 0.53\n",
      "CK \tRMSE: 0.59\t MAE: 0.44 \tMAPE: 1.55 \tDA: 0.38\n",
      "CPALL \tRMSE: 2.15\t MAE: 1.70 \tMAPE: 2.85 \tDA: 0.36\n",
      "HMPRO \tRMSE: 0.26\t MAE: 0.22 \tMAPE: 2.05 \tDA: 0.62\n",
      "BDMS \tRMSE: 0.43\t MAE: 0.27 \tMAPE: 1.33 \tDA: 0.88\n",
      "BH \tRMSE: 1.76\t MAE: 1.37 \tMAPE: 0.73 \tDA: 0.69\n",
      "ADVANC \tRMSE: 2.23\t MAE: 1.75 \tMAPE: 1.05 \tDA: 0.59\n",
      "JAS \tRMSE: 0.39\t MAE: 0.26 \tMAPE: 3.19 \tDA: 0.50\n",
      "TRUE \tRMSE: 0.16\t MAE: 0.14 \tMAPE: 2.23 \tDA: 0.68\n",
      "\n",
      "mean RMSE: 1.9\n",
      "mean MAE: 1.35\n",
      "mean MAPE: 1.81\n",
      "mean DA: 0.564\n"
     ]
    }
   ],
   "source": [
    "bagging = ensemble.BaggingRegressor(base_estimator=None,\n",
    "                                    n_estimators=30,n_jobs=-1)\n",
    "bagging.fit(x_train, y_train.values.ravel())\n",
    "evaluator(bagging, x_test, le)"
   ]
  },
  {
   "cell_type": "markdown",
   "metadata": {},
   "source": [
    "# AdaBoost Regressor"
   ]
  },
  {
   "cell_type": "code",
   "execution_count": 18,
   "metadata": {
    "collapsed": true
   },
   "outputs": [
    {
     "data": {
      "text/plain": [
       "AdaBoostRegressor(base_estimator=DecisionTreeRegressor(criterion='mse', max_depth=None, max_features=None,\n",
       "           max_leaf_nodes=None, min_impurity_decrease=0.0,\n",
       "           min_impurity_split=None, min_samples_leaf=1,\n",
       "           min_samples_split=2, min_weight_fraction_leaf=0.0,\n",
       "           presort=False, random_state=None, splitter='best'),\n",
       "         learning_rate=0.3, loss='linear', n_estimators=50,\n",
       "         random_state=None)"
      ]
     },
     "execution_count": 18,
     "metadata": {},
     "output_type": "execute_result"
    },
    {
     "name": "stdout",
     "output_type": "stream",
     "text": [
      "BANPU \tRMSE: 0.30\t MAE: 0.20 \tMAPE: 1.11 \tDA: 0.90\n",
      "IRPC \tRMSE: 0.11\t MAE: 0.08 \tMAPE: 1.38 \tDA: 0.47\n",
      "PTT \tRMSE: 6.53\t MAE: 5.21 \tMAPE: 1.28 \tDA: 0.53\n",
      "BBL \tRMSE: 3.16\t MAE: 2.08 \tMAPE: 1.05 \tDA: 0.38\n",
      "KBANK \tRMSE: 3.30\t MAE: 2.70 \tMAPE: 1.35 \tDA: 0.44\n",
      "SCB \tRMSE: 2.17\t MAE: 1.47 \tMAPE: 0.96 \tDA: 0.50\n",
      "AOT \tRMSE: 1.24\t MAE: 0.77 \tMAPE: 1.44 \tDA: 0.57\n",
      "THAI \tRMSE: 0.66\t MAE: 0.43 \tMAPE: 2.15 \tDA: 0.61\n",
      "CPF \tRMSE: 0.34\t MAE: 0.24 \tMAPE: 0.92 \tDA: 0.72\n",
      "MINT \tRMSE: 0.94\t MAE: 0.76 \tMAPE: 1.86 \tDA: 0.58\n",
      "TU \tRMSE: 0.49\t MAE: 0.33 \tMAPE: 1.63 \tDA: 0.57\n",
      "SCC \tRMSE: 5.21\t MAE: 3.13 \tMAPE: 0.63 \tDA: 0.70\n",
      "CPN \tRMSE: 3.71\t MAE: 2.71 \tMAPE: 3.59 \tDA: 0.59\n",
      "CK \tRMSE: 0.58\t MAE: 0.42 \tMAPE: 1.48 \tDA: 0.50\n",
      "CPALL \tRMSE: 2.01\t MAE: 1.66 \tMAPE: 2.78 \tDA: 0.45\n",
      "HMPRO \tRMSE: 0.21\t MAE: 0.18 \tMAPE: 1.69 \tDA: 0.62\n",
      "BDMS \tRMSE: 0.46\t MAE: 0.32 \tMAPE: 1.61 \tDA: 0.59\n",
      "BH \tRMSE: 2.27\t MAE: 1.88 \tMAPE: 1.01 \tDA: 0.54\n",
      "ADVANC \tRMSE: 2.07\t MAE: 1.66 \tMAPE: 0.99 \tDA: 0.55\n",
      "JAS \tRMSE: 0.40\t MAE: 0.28 \tMAPE: 3.42 \tDA: 0.58\n",
      "TRUE \tRMSE: 0.17\t MAE: 0.14 \tMAPE: 2.17 \tDA: 0.64\n",
      "\n",
      "mean RMSE: 1.73\n",
      "mean MAE: 1.27\n",
      "mean MAPE: 1.64\n",
      "mean DA: 0.5729\n"
     ]
    }
   ],
   "source": [
    "adaboost_dt_regr = ensemble.AdaBoostRegressor(base_estimator=tree.DecisionTreeRegressor(),\n",
    "                                           learning_rate=0.3, \n",
    "                                           n_estimators=50, \n",
    "                                           loss='linear')\n",
    "adaboost_dt_regr.fit(x_train, y_train.values.ravel())\n",
    "\n",
    "evaluator(adaboost_dt_regr, x_test, le)"
   ]
  },
  {
   "cell_type": "code",
   "execution_count": 19,
   "metadata": {
    "collapsed": true
   },
   "outputs": [
    {
     "data": {
      "text/plain": [
       "AdaBoostRegressor(base_estimator=RandomForestRegressor(bootstrap=True, criterion='mse', max_depth=None,\n",
       "           max_features='auto', max_leaf_nodes=None,\n",
       "           min_impurity_decrease=0.0, min_impurity_split=None,\n",
       "           min_samples_leaf=1, min_samples_split=2,\n",
       "           min_weight_fraction_leaf=0.0, n_estimators=10, n_jobs=-1,\n",
       "           oob_score=False, random_state=None, verbose=0, warm_start=False),\n",
       "         learning_rate=0.3, loss='linear', n_estimators=50,\n",
       "         random_state=None)"
      ]
     },
     "execution_count": 19,
     "metadata": {},
     "output_type": "execute_result"
    },
    {
     "name": "stdout",
     "output_type": "stream",
     "text": [
      "BANPU \tRMSE: 0.32\t MAE: 0.26 \tMAPE: 1.46 \tDA: 0.86\n",
      "IRPC \tRMSE: 0.12\t MAE: 0.10 \tMAPE: 1.64 \tDA: 0.53\n",
      "PTT \tRMSE: 6.03\t MAE: 4.81 \tMAPE: 1.18 \tDA: 0.57\n",
      "BBL \tRMSE: 2.50\t MAE: 1.81 \tMAPE: 0.92 \tDA: 0.46\n",
      "KBANK \tRMSE: 2.71\t MAE: 2.26 \tMAPE: 1.14 \tDA: 0.47\n",
      "SCB \tRMSE: 2.29\t MAE: 1.66 \tMAPE: 1.08 \tDA: 0.40\n",
      "AOT \tRMSE: 0.97\t MAE: 0.77 \tMAPE: 1.51 \tDA: 0.54\n",
      "THAI \tRMSE: 0.70\t MAE: 0.45 \tMAPE: 2.26 \tDA: 0.58\n",
      "CPF \tRMSE: 0.30\t MAE: 0.22 \tMAPE: 0.84 \tDA: 0.67\n",
      "MINT \tRMSE: 0.89\t MAE: 0.76 \tMAPE: 1.86 \tDA: 0.53\n",
      "TU \tRMSE: 0.49\t MAE: 0.33 \tMAPE: 1.66 \tDA: 0.50\n",
      "SCC \tRMSE: 5.57\t MAE: 4.01 \tMAPE: 0.80 \tDA: 0.57\n",
      "CPN \tRMSE: 3.83\t MAE: 2.96 \tMAPE: 3.91 \tDA: 0.59\n",
      "CK \tRMSE: 0.50\t MAE: 0.32 \tMAPE: 1.15 \tDA: 0.56\n",
      "CPALL \tRMSE: 2.08\t MAE: 1.55 \tMAPE: 2.58 \tDA: 0.45\n",
      "HMPRO \tRMSE: 0.20\t MAE: 0.15 \tMAPE: 1.35 \tDA: 0.46\n",
      "BDMS \tRMSE: 0.48\t MAE: 0.32 \tMAPE: 1.60 \tDA: 0.65\n",
      "BH \tRMSE: 2.12\t MAE: 1.73 \tMAPE: 0.92 \tDA: 0.69\n",
      "ADVANC \tRMSE: 2.18\t MAE: 1.68 \tMAPE: 1.01 \tDA: 0.66\n",
      "JAS \tRMSE: 0.39\t MAE: 0.28 \tMAPE: 3.43 \tDA: 0.50\n",
      "TRUE \tRMSE: 0.15\t MAE: 0.13 \tMAPE: 2.13 \tDA: 0.64\n",
      "\n",
      "mean RMSE: 1.66\n",
      "mean MAE: 1.27\n",
      "mean MAPE: 1.64\n",
      "mean DA: 0.5647\n"
     ]
    }
   ],
   "source": [
    "adaboost_rf_regr = ensemble.AdaBoostRegressor(base_estimator=ensemble.RandomForestRegressor(n_jobs=-1),\n",
    "                                           learning_rate=0.3, \n",
    "                                           n_estimators=50, \n",
    "                                           loss='linear')\n",
    "adaboost_rf_regr.fit(x_train, y_train.values.ravel())\n",
    "\n",
    "evaluator(adaboost_rf_regr, x_test, le)"
   ]
  },
  {
   "cell_type": "markdown",
   "metadata": {},
   "source": [
    "# Gradient Boosting Regressor"
   ]
  },
  {
   "cell_type": "code",
   "execution_count": 28,
   "metadata": {},
   "outputs": [],
   "source": [
    "# gbr = ensemble.GradientBoostingRegressor(n_estimators=300, \n",
    "#                                          learning_rate=0.01,\n",
    "#                                          max_depth=8,\n",
    "#                                          min_samples_split=3,\n",
    "#                                          loss='ls',\n",
    "#                                         )\n",
    "# gbr.fit(x_train, y_train.values.ravel())\n",
    "\n",
    "# evaluator(gbr, x_test, le)"
   ]
  },
  {
   "cell_type": "markdown",
   "metadata": {},
   "source": [
    "# XGBoost Regressor"
   ]
  },
  {
   "cell_type": "code",
   "execution_count": 20,
   "metadata": {},
   "outputs": [
    {
     "data": {
      "text/plain": [
       "(1770, 197)"
      ]
     },
     "execution_count": 20,
     "metadata": {},
     "output_type": "execute_result"
    }
   ],
   "source": [
    "import xgboost\n",
    "from sklearn.model_selection import train_test_split\n",
    "\n",
    "d_train, d_valid, y_d_train, y_d_valid = train_test_split(x_train, y_train, test_size=0.1, random_state=10)\n",
    "len(d_train), len(d_valid)\n",
    "\n",
    "d_train = xgboost.DMatrix(d_train, label=y_d_train)\n",
    "d_valid = xgboost.DMatrix(d_valid, label=y_d_valid)"
   ]
  },
  {
   "cell_type": "markdown",
   "metadata": {},
   "source": [
    "Parameters\n",
    "http://xgboost.readthedocs.io/en/latest//parameter.html"
   ]
  },
  {
   "cell_type": "code",
   "execution_count": 21,
   "metadata": {},
   "outputs": [
    {
     "name": "stdout",
     "output_type": "stream",
     "text": [
      "[0]\ttrain-mae:132.578\tvalid-mae:129.04\n",
      "Multiple eval metrics have been passed: 'valid-mae' will be used for early stopping.\n",
      "\n",
      "Will train until valid-mae hasn't improved in 100 rounds.\n",
      "[100]\ttrain-mae:125.589\tvalid-mae:122.369\n",
      "[200]\ttrain-mae:101.302\tvalid-mae:99.7523\n",
      "[300]\ttrain-mae:59.43\tvalid-mae:59.5976\n",
      "[400]\ttrain-mae:26.6896\tvalid-mae:27.2333\n",
      "[500]\ttrain-mae:10.6007\tvalid-mae:11.089\n",
      "[600]\ttrain-mae:4.10481\tvalid-mae:4.47542\n",
      "[700]\ttrain-mae:1.80499\tvalid-mae:2.3193\n",
      "[800]\ttrain-mae:1.17024\tvalid-mae:1.72158\n",
      "[900]\ttrain-mae:0.99784\tvalid-mae:1.61305\n",
      "[1000]\ttrain-mae:0.926056\tvalid-mae:1.60496\n",
      "Stopping. Best iteration:\n",
      "[982]\ttrain-mae:0.935969\tvalid-mae:1.60355\n",
      "\n"
     ]
    }
   ],
   "source": [
    "params = {\n",
    "    'booster':'dart',\n",
    "    'max_depth': 4,\n",
    "    'learning_rate': 0.01,\n",
    "    'subsample': 1,\n",
    "    'objective': 'reg:tweedie',\n",
    "    'eval_metric': 'mae',\n",
    "    'reg_lambda': 0.8,\n",
    "    'reg_alpha': 0.2,\n",
    "    'silent': 1,\n",
    "    'sample_type':\"weighted\"\n",
    "}\n",
    "\n",
    "xgb = xgboost.train(params, d_train, \n",
    "                    num_boost_round=5000, \n",
    "                    evals=[(d_train, 'train'), (d_valid, 'valid')], \n",
    "                    early_stopping_rounds=100,\n",
    "                    verbose_eval=100\n",
    "                   )\n"
   ]
  },
  {
   "cell_type": "code",
   "execution_count": 22,
   "metadata": {},
   "outputs": [
    {
     "name": "stdout",
     "output_type": "stream",
     "text": [
      "BANPU \tRMSE: 0.31\t MAE: 0.25 \tMAPE: 1.37 \tDA: 0.71\n",
      "IRPC \tRMSE: 0.10\t MAE: 0.08 \tMAPE: 1.37 \tDA: 0.47\n",
      "PTT \tRMSE: 5.00\t MAE: 3.91 \tMAPE: 0.95 \tDA: 0.60\n",
      "BBL \tRMSE: 2.60\t MAE: 1.78 \tMAPE: 0.90 \tDA: 0.42\n",
      "KBANK \tRMSE: 3.09\t MAE: 2.57 \tMAPE: 1.28 \tDA: 0.50\n",
      "SCB \tRMSE: 2.40\t MAE: 1.77 \tMAPE: 1.16 \tDA: 0.40\n",
      "AOT \tRMSE: 1.09\t MAE: 0.76 \tMAPE: 1.49 \tDA: 0.66\n",
      "THAI \tRMSE: 0.69\t MAE: 0.46 \tMAPE: 2.29 \tDA: 0.55\n",
      "CPF \tRMSE: 0.32\t MAE: 0.24 \tMAPE: 0.94 \tDA: 0.53\n",
      "MINT \tRMSE: 0.93\t MAE: 0.75 \tMAPE: 1.82 \tDA: 0.53\n",
      "TU \tRMSE: 0.54\t MAE: 0.32 \tMAPE: 1.56 \tDA: 0.57\n",
      "SCC \tRMSE: 7.19\t MAE: 5.61 \tMAPE: 1.11 \tDA: 0.48\n",
      "CPN \tRMSE: 2.93\t MAE: 2.23 \tMAPE: 3.00 \tDA: 0.47\n",
      "CK \tRMSE: 0.57\t MAE: 0.40 \tMAPE: 1.41 \tDA: 0.50\n",
      "CPALL \tRMSE: 2.42\t MAE: 1.86 \tMAPE: 3.09 \tDA: 0.27\n",
      "HMPRO \tRMSE: 0.15\t MAE: 0.11 \tMAPE: 1.04 \tDA: 0.92\n",
      "BDMS \tRMSE: 0.43\t MAE: 0.31 \tMAPE: 1.51 \tDA: 0.71\n",
      "BH \tRMSE: 2.35\t MAE: 1.93 \tMAPE: 1.01 \tDA: 0.46\n",
      "ADVANC \tRMSE: 2.03\t MAE: 1.53 \tMAPE: 0.90 \tDA: 0.62\n",
      "JAS \tRMSE: 0.38\t MAE: 0.25 \tMAPE: 3.08 \tDA: 0.46\n",
      "TRUE \tRMSE: 0.16\t MAE: 0.14 \tMAPE: 2.15 \tDA: 0.68\n",
      "\n",
      "mean RMSE: 1.7\n",
      "mean MAE: 1.3\n",
      "mean MAPE: 1.59\n",
      "mean DA: 0.5487\n"
     ]
    }
   ],
   "source": [
    "evaluator(xgb, x_test, le, isXGB=True)"
   ]
  },
  {
   "cell_type": "markdown",
   "metadata": {},
   "source": [
    "# Save ML models"
   ]
  },
  {
   "cell_type": "code",
   "execution_count": 24,
   "metadata": {},
   "outputs": [],
   "source": [
    "pickle.dump(lineregr, open('models/lineregr.pkl', 'wb'))\n",
    "pickle.dump(bagging, open('models/bagging_regr.pkl', 'wb'))\n",
    "pickle.dump(decis_tree_regr, open('models/decis_tree_regr.pkl', 'wb'))\n",
    "pickle.dump(rnd_forest_regr, open('models/rnd_forest_regr.pkl', 'wb'))\n",
    "pickle.dump(adaboost_dt_regr, open('models/adaboost_dt_regr.pkl', 'wb'))\n",
    "pickle.dump(adaboost_rf_regr, open('models/adaboost_rf_regr.pkl', 'wb'))\n",
    "# pickle.dump(gbr, open('models/gbr.pkl', 'wb'))\n",
    "pickle.dump(xgb, open('models/xgb.pkl', 'wb'))\n",
    "\n",
    "x_test.to_csv('data/x_test_unique_news.csv')"
   ]
  },
  {
   "cell_type": "markdown",
   "metadata": {},
   "source": [
    "# Ensemble Stacking"
   ]
  },
  {
   "cell_type": "code",
   "execution_count": 27,
   "metadata": {},
   "outputs": [],
   "source": [
    "dt = pickle.load(open('models/decis_tree_regr.pkl', 'rb'))\n",
    "rf = pickle.load(open('models/rnd_forest_regr.pkl', 'rb'))\n",
    "bagging_dt = pickle.load(open('models/bagging_regr.pkl', 'rb'))\n",
    "ada_dt = pickle.load(open('models/adaboost_dt_regr.pkl', 'rb'))\n",
    "ada_rf = pickle.load(open('models/adaboost_rf_regr.pkl', 'rb'))\n",
    "xgb = pickle.load(open('models/xgb.pkl', 'rb'))"
   ]
  },
  {
   "cell_type": "code",
   "execution_count": 28,
   "metadata": {},
   "outputs": [],
   "source": [
    "x_train_stack = np.concatenate((\n",
    "#                          dt.predict(x_train).reshape(-1,1),\n",
    "#                          rf.predict(x_train).reshape(-1,1),\n",
    "                         bagging_dt.predict(x_train).reshape(-1,1),\n",
    "                         ada_dt.predict(x_train).reshape(-1,1),\n",
    "                         ada_rf.predict(x_train).reshape(-1,1),\n",
    "                         xgb.predict(xgboost.DMatrix(x_train)).reshape(-1,1)), axis=1)"
   ]
  },
  {
   "cell_type": "code",
   "execution_count": 53,
   "metadata": {},
   "outputs": [],
   "source": [
    "y_test = x_test[Horizon].values.reshape(-1,1)\n",
    "\n",
    "x_test_stack = np.concatenate((\n",
    "#                          dt.predict(x_test.drop(['Close(t+1)'], axis=1)).reshape(-1,1),\n",
    "#                          rf.predict(x_test.drop(['Close(t+1)'], axis=1)).reshape(-1,1),\n",
    "                         bagging_dt.predict(x_test.drop(['Close(t+1)'], axis=1)).reshape(-1,1),\n",
    "                         ada_dt.predict(x_test.drop(['Close(t+1)'], axis=1)).reshape(-1,1),\n",
    "                         ada_rf.predict(x_test.drop(['Close(t+1)'], axis=1)).reshape(-1,1),\n",
    "                         xgb.predict(xgboost.DMatrix((x_test.drop(['Close(t+1)'], axis=1)))).reshape(-1,1)), axis=1)"
   ]
  },
  {
   "cell_type": "code",
   "execution_count": 106,
   "metadata": {
    "scrolled": true
   },
   "outputs": [
    {
     "data": {
      "text/plain": [
       "RandomForestRegressor(bootstrap=True, criterion='mse', max_depth=None,\n",
       "           max_features='auto', max_leaf_nodes=None,\n",
       "           min_impurity_decrease=0.0, min_impurity_split=None,\n",
       "           min_samples_leaf=1, min_samples_split=2,\n",
       "           min_weight_fraction_leaf=0.0, n_estimators=10, n_jobs=1,\n",
       "           oob_score=False, random_state=None, verbose=0, warm_start=False)"
      ]
     },
     "execution_count": 106,
     "metadata": {},
     "output_type": "execute_result"
    },
    {
     "name": "stdout",
     "output_type": "stream",
     "text": [
      "RMSE: 3.20 \tMAE: 1.62 \tMAPE: 1.75\n",
      "RMSE: 2.89 \tMAE: 1.53 \tMAPE: 1.56\n",
      "RMSE: 2.74 \tMAE: 1.50 \tMAPE: 1.56\n",
      "RMSE: 2.70 \tMAE: 1.48 \tMAPE: 1.50\n",
      "\n",
      "RMSE: 2.69 \tMAE: 1.47 \tMAPE: 1.52\n"
     ]
    }
   ],
   "source": [
    "stack = ensemble.RandomForestRegressor()\n",
    "stack.fit(x_train_stack, y_train.values.ravel())\n",
    "\n",
    "y_pred_stack = stack.predict(x_test_stack).reshape(-1,1)\n",
    "\n",
    "for i in range(x_test_stack.shape[1]):\n",
    "    RMSE = np.sqrt(mean_squared_error(y_test, x_test_stack[:,i]))\n",
    "    MAE = mean_absolute_error(y_test, x_test_stack[:,i])\n",
    "    MAPE = mean_absolute_percentage_error(y_test, x_test_stack[:,i].reshape(-1,1))\n",
    "    print(\"RMSE: %.2f \\tMAE: %.2f \\tMAPE: %.2f\" % (RMSE, MAE, MAPE))\n",
    "    \n",
    "RMSE = np.sqrt(mean_squared_error(y_test, y_pred_stack))\n",
    "MAE = mean_absolute_error(y_test, y_pred_stack)\n",
    "MAPE = mean_absolute_percentage_error(y_test, y_pred_stack)\n",
    "print(\"\\nRMSE: %.2f \\tMAE: %.2f \\tMAPE: %.2f\" % (RMSE, MAE, MAPE))"
   ]
  },
  {
   "cell_type": "code",
   "execution_count": 108,
   "metadata": {},
   "outputs": [
    {
     "data": {
      "text/plain": [
       "array([0.21326136, 0.34588015, 0.39886349, 0.04199499])"
      ]
     },
     "execution_count": 108,
     "metadata": {},
     "output_type": "execute_result"
    }
   ],
   "source": [
    "feature_importances = stack.feature_importances_\n",
    "feature_importances"
   ]
  },
  {
   "cell_type": "markdown",
   "metadata": {},
   "source": [
    "# Stack DA"
   ]
  },
  {
   "cell_type": "code",
   "execution_count": 120,
   "metadata": {},
   "outputs": [
    {
     "data": {
      "text/plain": [
       "RandomForestRegressor(bootstrap=True, criterion='mse', max_depth=None,\n",
       "           max_features='auto', max_leaf_nodes=None,\n",
       "           min_impurity_decrease=0.0, min_impurity_split=None,\n",
       "           min_samples_leaf=1, min_samples_split=2,\n",
       "           min_weight_fraction_leaf=0.0, n_estimators=10, n_jobs=1,\n",
       "           oob_score=False, random_state=None, verbose=0, warm_start=False)"
      ]
     },
     "execution_count": 120,
     "metadata": {},
     "output_type": "execute_result"
    }
   ],
   "source": [
    "close_t = np.reshape(x_train['Close(t)'].values, (-1, 1))\n",
    "changes = y_train.values.reshape(-1,1) - close_t\n",
    "y_train_da = np.array([1 if change >= 0 else 0 for change in changes]).reshape(-1,1)\n",
    "\n",
    "x_changes = np.concatenate((\n",
    "                            np.array(x_train_stack[:,0]).reshape(-1,1)-close_t,\n",
    "                            np.array(x_train_stack[:,1]).reshape(-1,1)-close_t,\n",
    "                            np.array(x_train_stack[:,2]).reshape(-1,1)-close_t,\n",
    "                            np.array(x_train_stack[:,3]).reshape(-1,1)-close_t,\n",
    "                           ), axis=1)\n",
    "x_train_stack_da = []\n",
    "for row in x_changes:\n",
    "    tmp_row = []\n",
    "    for change in row:\n",
    "        tmp_row.append(1 if change>=0 else 0)\n",
    "    x_train_stack_da.append(tmp_row)"
   ]
  },
  {
   "cell_type": "code",
   "execution_count": 127,
   "metadata": {},
   "outputs": [],
   "source": [
    "close_t = np.reshape(x_test['Close(t)'].values, (-1, 1))\n",
    "changes = y_test - close_t\n",
    "y_test_da = np.array([1 if change >= 0 else 0 for change in changes]).reshape(-1,1)\n",
    "\n",
    "x_changes = np.concatenate((\n",
    "                            np.array(x_test_stack[:,0]).reshape(-1,1)-close_t,\n",
    "                            np.array(x_test_stack[:,1]).reshape(-1,1)-close_t,\n",
    "                            np.array(x_test_stack[:,2]).reshape(-1,1)-close_t,\n",
    "                            np.array(x_test_stack[:,3]).reshape(-1,1)-close_t,\n",
    "                           ), axis=1)\n",
    "x_test_stack_da = []\n",
    "for row in x_changes:\n",
    "    tmp_row = []\n",
    "    for change in row:\n",
    "        tmp_row.append(1 if change>=0 else 0)\n",
    "    x_test_stack_da.append(tmp_row)\n",
    "\n",
    "x_test_stack_da = np.array(x_test_stack_da)"
   ]
  },
  {
   "cell_type": "code",
   "execution_count": 143,
   "metadata": {},
   "outputs": [
    {
     "data": {
      "text/plain": [
       "GradientBoostingRegressor(alpha=0.9, criterion='friedman_mse', init=None,\n",
       "             learning_rate=0.1, loss='ls', max_depth=3, max_features=None,\n",
       "             max_leaf_nodes=None, min_impurity_decrease=0.0,\n",
       "             min_impurity_split=None, min_samples_leaf=1,\n",
       "             min_samples_split=2, min_weight_fraction_leaf=0.0,\n",
       "             n_estimators=100, presort='auto', random_state=None,\n",
       "             subsample=1.0, verbose=0, warm_start=False)"
      ]
     },
     "execution_count": 143,
     "metadata": {},
     "output_type": "execute_result"
    },
    {
     "name": "stdout",
     "output_type": "stream",
     "text": [
      "Accuracy: 0.5567\n",
      "Accuracy: 0.5726\n",
      "Accuracy: 0.5646\n",
      "Accuracy: 0.5507\n",
      "\n",
      "Accuracy: 0.5726\n"
     ]
    }
   ],
   "source": [
    "stack_da = ensemble.GradientBoostingRegressor()\n",
    "stack_da.fit(x_train_stack_da, y_train_da.ravel())\n",
    "\n",
    "y_stack_da = stack_da.predict(x_test_stack_da).reshape(-1,1).round(0).astype(int)\n",
    "\n",
    "for i in range(x_test_stack_da.shape[1]):\n",
    "    acc = accuracy_score(y_test_da, x_test_stack_da[:,i])\n",
    "    print(\"Accuracy: %.4f\" % (acc))\n",
    "    \n",
    "acc = accuracy_score(y_test_da, y_stack_da)\n",
    "print(\"\\nAccuracy: %.4f\" % (acc))"
   ]
  },
  {
   "cell_type": "code",
   "execution_count": 145,
   "metadata": {},
   "outputs": [
    {
     "data": {
      "text/plain": [
       "array([0.16075052, 0.59401102, 0.1055127 , 0.13972575])"
      ]
     },
     "execution_count": 145,
     "metadata": {},
     "output_type": "execute_result"
    }
   ],
   "source": [
    "feature_importances_da = stack_da.feature_importances_\n",
    "feature_importances_da"
   ]
  },
  {
   "cell_type": "code",
   "execution_count": null,
   "metadata": {},
   "outputs": [],
   "source": []
  },
  {
   "cell_type": "code",
   "execution_count": null,
   "metadata": {},
   "outputs": [],
   "source": []
  },
  {
   "cell_type": "code",
   "execution_count": null,
   "metadata": {},
   "outputs": [],
   "source": []
  },
  {
   "cell_type": "code",
   "execution_count": null,
   "metadata": {},
   "outputs": [],
   "source": []
  },
  {
   "cell_type": "code",
   "execution_count": null,
   "metadata": {},
   "outputs": [],
   "source": []
  },
  {
   "cell_type": "code",
   "execution_count": null,
   "metadata": {},
   "outputs": [],
   "source": []
  },
  {
   "cell_type": "code",
   "execution_count": null,
   "metadata": {},
   "outputs": [],
   "source": []
  },
  {
   "cell_type": "code",
   "execution_count": null,
   "metadata": {},
   "outputs": [],
   "source": []
  },
  {
   "cell_type": "code",
   "execution_count": null,
   "metadata": {},
   "outputs": [],
   "source": []
  },
  {
   "cell_type": "code",
   "execution_count": null,
   "metadata": {},
   "outputs": [],
   "source": []
  },
  {
   "cell_type": "markdown",
   "metadata": {},
   "source": [
    "# LSTM"
   ]
  },
  {
   "cell_type": "code",
   "execution_count": null,
   "metadata": {},
   "outputs": [],
   "source": [
    "from keras.models import Sequential\n",
    "from keras.layers import Dense, Dropout, LSTM"
   ]
  },
  {
   "cell_type": "code",
   "execution_count": null,
   "metadata": {},
   "outputs": [],
   "source": [
    "train_X = x_train.values\n",
    "val_X = x_valid.values\n",
    "# test_X = x_test.values\n",
    "\n",
    "train_y = y_train.values\n",
    "val_y = y_valid.values\n",
    "# test_y = y_test.values\n",
    "\n",
    "train_X = train_X.reshape(train_X.shape[0],  train_X.shape[1], 1)\n",
    "val_X = val_X.reshape(val_X.shape[0], val_X.shape[1], 1)\n",
    "# test_X = test_X.reshape((test_X.shape[0], 1, test_X.shape[1]))\n",
    "\n",
    "print(train_X.shape, train_y.shape)\n",
    "print(val_X.shape, val_y.shape)\n",
    "# print(test_X.shape, test_y.shape)"
   ]
  },
  {
   "cell_type": "code",
   "execution_count": null,
   "metadata": {},
   "outputs": [],
   "source": [
    "model = Sequential()\n",
    "model.add(LSTM(64, return_sequences=True, input_shape=(train_X.shape[1], train_X.shape[2])))\n",
    "model.add(Dropout(0.1))\n",
    "model.add(LSTM(128, return_sequences=True))\n",
    "model.add(Dropout(0.2))\n",
    "model.add(LSTM(256, return_sequences=True))\n",
    "model.add(Dropout(0.3))\n",
    "model.add(LSTM(256, return_sequences=True))\n",
    "model.add(Dropout(0.4))\n",
    "model.add(LSTM(128))\n",
    "model.add(Dense(1))\n",
    "model.compile(loss='mean_absolute_error', optimizer='adam')"
   ]
  },
  {
   "cell_type": "code",
   "execution_count": null,
   "metadata": {},
   "outputs": [],
   "source": [
    "from keras.callbacks import ModelCheckpoint, TensorBoard, EarlyStopping\n",
    "\n",
    "checkpoint = ModelCheckpoint(filepath=\"models/LSTM.h5\", \n",
    "                             monitor='val_loss', \n",
    "                             verbose=1, \n",
    "                             save_best_only=True, \n",
    "                             save_weights_only=False, \n",
    "                             mode='auto', \n",
    "                             period=1\n",
    "                            )\n",
    "\n",
    "earlystopping = EarlyStopping(monitor='val_loss', \n",
    "                      min_delta=0, \n",
    "                      patience=10,\n",
    "                      verbose=1, \n",
    "                      mode='auto')\n",
    "\n",
    "# access via $ tensorboard --logdir=./logs\n",
    "tensorboard = TensorBoard(log_dir='./logs')"
   ]
  },
  {
   "cell_type": "code",
   "execution_count": null,
   "metadata": {
    "scrolled": false
   },
   "outputs": [],
   "source": [
    "model.fit(x=train_X, \n",
    "          y=train_y,\n",
    "          epochs=1000,\n",
    "          batch_size=256,\n",
    "          validation_data=(val_X, val_y),\n",
    "          verbose=1,\n",
    "          shuffle=False,\n",
    "          callbacks=[checkpoint, earlystopping, tensorboard]\n",
    "         )"
   ]
  },
  {
   "cell_type": "code",
   "execution_count": null,
   "metadata": {},
   "outputs": [],
   "source": [
    "evaluator(model, x_test, le, isLSTM=True)"
   ]
  },
  {
   "cell_type": "code",
   "execution_count": null,
   "metadata": {},
   "outputs": [],
   "source": [
    "from keras.layers import Bidirectional"
   ]
  },
  {
   "cell_type": "code",
   "execution_count": null,
   "metadata": {},
   "outputs": [],
   "source": [
    "model = Sequential()\n",
    "model.add(Bidirectional(LSTM(128, return_sequences=True), input_shape=(train_X.shape[1], train_X.shape[2])))\n",
    "model.add(Dropout(0.2))\n",
    "model.add(Bidirectional(LSTM(128, return_sequences=True)))\n",
    "model.add(Dropout(0.3))\n",
    "model.add(Bidirectional(LSTM(128, return_sequences=True)))\n",
    "model.add(Dropout(0.4))\n",
    "model.add(Bidirectional(LSTM(128)))\n",
    "model.add(Dense(1))\n",
    "model.compile(loss='mean_absolute_error', optimizer='adam')"
   ]
  },
  {
   "cell_type": "code",
   "execution_count": null,
   "metadata": {},
   "outputs": [],
   "source": [
    "model.fit(x=train_X, \n",
    "          y=train_y,\n",
    "          epochs=100,\n",
    "          batch_size=128,\n",
    "          validation_data=(val_X, val_y),\n",
    "          verbose=1,\n",
    "          shuffle=False,\n",
    "          callbacks=[checkpoint, earlystopping, tensorboard]\n",
    "         )"
   ]
  },
  {
   "cell_type": "code",
   "execution_count": null,
   "metadata": {
    "scrolled": false
   },
   "outputs": [],
   "source": [
    "evaluator(model, x_test, le, isLSTM=True)"
   ]
  },
  {
   "cell_type": "code",
   "execution_count": null,
   "metadata": {},
   "outputs": [],
   "source": []
  }
 ],
 "metadata": {
  "kernelspec": {
   "display_name": "Python 3",
   "language": "python",
   "name": "python3"
  },
  "language_info": {
   "codemirror_mode": {
    "name": "ipython",
    "version": 3
   },
   "file_extension": ".py",
   "mimetype": "text/x-python",
   "name": "python",
   "nbconvert_exporter": "python",
   "pygments_lexer": "ipython3",
   "version": "3.5.2"
  }
 },
 "nbformat": 4,
 "nbformat_minor": 2
}
